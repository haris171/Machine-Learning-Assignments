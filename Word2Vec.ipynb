{
  "nbformat": 4,
  "nbformat_minor": 0,
  "metadata": {
    "colab": {
      "name": "21100088_Task3_WE.ipynb",
      "provenance": []
    },
    "kernelspec": {
      "name": "python3",
      "display_name": "Python 3"
    },
    "accelerator": "GPU"
  },
  "cells": [
    {
      "cell_type": "markdown",
      "metadata": {
        "id": "4xgEyLWFiu7G"
      },
      "source": [
        "#Assignment1"
      ]
    },
    {
      "cell_type": "code",
      "metadata": {
        "id": "1chVlGfmb7Mh",
        "outputId": "8c0e1314-81a4-4046-a50d-f97710d8aa83",
        "colab": {
          "base_uri": "https://localhost:8080/",
          "height": 34
        }
      },
      "source": [
        "import IPython\n",
        "from google.colab import output\n",
        "display(IPython.display.Javascript('''\n",
        " function ClickConnect(){\n",
        "   btn = document.querySelector(\"colab-connect-button\")\n",
        "   if (btn != null){\n",
        "     console.log(\"Click colab-connect-button\");\n",
        "     btn.click()\n",
        "     }\n",
        "   btn = document.getElementById('ok')\n",
        "   if (btn != null){\n",
        "     console.log(\"Click reconnect\");\n",
        "     btn.click()\n",
        "     }\n",
        "  }\n",
        "setInterval(ClickConnect,60000)\n",
        "'''))\n",
        "print(\"Done.\")"
      ],
      "execution_count": 2,
      "outputs": [
        {
          "output_type": "display_data",
          "data": {
            "application/javascript": [
              "\n",
              " function ClickConnect(){\n",
              "   btn = document.querySelector(\"colab-connect-button\")\n",
              "   if (btn != null){\n",
              "     console.log(\"Click colab-connect-button\");\n",
              "     btn.click()\n",
              "     }\n",
              "   btn = document.getElementById('ok')\n",
              "   if (btn != null){\n",
              "     console.log(\"Click reconnect\");\n",
              "     btn.click()\n",
              "     }\n",
              "  }\n",
              "setInterval(ClickConnect,60000)\n"
            ],
            "text/plain": [
              "<IPython.core.display.Javascript object>"
            ]
          },
          "metadata": {
            "tags": []
          }
        },
        {
          "output_type": "stream",
          "text": [
            "Done.\n"
          ],
          "name": "stdout"
        }
      ]
    },
    {
      "cell_type": "code",
      "metadata": {
        "id": "kuXaNytVcGqe",
        "outputId": "36891e90-c8fc-46d0-aefe-ad78b94059c2",
        "colab": {
          "base_uri": "https://localhost:8080/",
          "height": 34
        }
      },
      "source": [
        "from google.colab import drive\n",
        "drive.mount('/content/gdrive')"
      ],
      "execution_count": 3,
      "outputs": [
        {
          "output_type": "stream",
          "text": [
            "Mounted at /content/gdrive\n"
          ],
          "name": "stdout"
        }
      ]
    },
    {
      "cell_type": "code",
      "metadata": {
        "id": "dnmAIyj6cR4V",
        "outputId": "b06ffcdf-4471-470e-f6c9-2d5f976b98cc",
        "colab": {
          "base_uri": "https://localhost:8080/",
          "height": 34
        }
      },
      "source": [
        "%cd /content/gdrive/My\\ Drive/ML/Programming_Assignment_1/"
      ],
      "execution_count": 4,
      "outputs": [
        {
          "output_type": "stream",
          "text": [
            "/content/gdrive/My Drive/ML/Programming_Assignment_1\n"
          ],
          "name": "stdout"
        }
      ]
    },
    {
      "cell_type": "code",
      "metadata": {
        "id": "uZLjhwnVcdFD",
        "outputId": "05665543-01a8-478c-86bf-99c036a34cf5",
        "colab": {
          "base_uri": "https://localhost:8080/",
          "height": 51
        }
      },
      "source": [
        "%ls"
      ],
      "execution_count": 5,
      "outputs": [
        {
          "output_type": "stream",
          "text": [
            "21100088_Assignment1_Q1+Q2.ipynb       kNN.pdf         test.csv\n",
            "GoogleNews-vectors-negative300.bin.gz  stop_words.txt  train.csv\n"
          ],
          "name": "stdout"
        }
      ]
    },
    {
      "cell_type": "code",
      "metadata": {
        "id": "fezeuR-nsABY"
      },
      "source": [
        "import pandas as pd\n",
        "import numpy as np\n",
        "import string\n",
        "import re \n",
        "from scipy.spatial import distance\n",
        "from array import *\n",
        "from collections import Counter\n",
        "from sklearn.neighbors import KNeighborsClassifier\n",
        "import pandas as pd\n",
        "import numpy as np\n",
        "from sklearn.metrics.pairwise import euclidean_distances\n",
        "from sklearn.metrics import confusion_matrix\n",
        "from sklearn.metrics import classification_report\n",
        "from sklearn.metrics import accuracy_score"
      ],
      "execution_count": 6,
      "outputs": []
    },
    {
      "cell_type": "code",
      "metadata": {
        "id": "dIksOXGgdXLa"
      },
      "source": [
        "with open('stop_words.txt') as s:\n",
        "   content = s.readlines()\n",
        "   "
      ],
      "execution_count": 7,
      "outputs": []
    },
    {
      "cell_type": "code",
      "metadata": {
        "id": "zSwo_Lw2dble"
      },
      "source": [
        "stop_words = []\n",
        "A = []"
      ],
      "execution_count": 8,
      "outputs": []
    },
    {
      "cell_type": "code",
      "metadata": {
        "id": "Sak6_OxGdhjE"
      },
      "source": [
        "for x in content:\n",
        "  word = x.strip()\n",
        "  stop_words.append(word)"
      ],
      "execution_count": 9,
      "outputs": []
    },
    {
      "cell_type": "code",
      "metadata": {
        "id": "YKrkQOBJicnl"
      },
      "source": [
        "train_data = pd.read_csv('train.csv')\n",
        "test_data = pd.read_csv('test.csv')"
      ],
      "execution_count": 10,
      "outputs": []
    },
    {
      "cell_type": "code",
      "metadata": {
        "id": "bU8725A8iokX"
      },
      "source": [
        "def preprocess(x): # This is pre processing\n",
        "    final_list = []\n",
        "    list_final = []\n",
        "    \n",
        "    x = x.lower()\n",
        "    #remove URL\n",
        "    x = re.sub(\"http[:/.a-zA-z0-9]+|https[:/.a-zA-z0-9]+\", '', x) #Removing links by targetting the link format\n",
        "    x = re.sub(\"\\.\\.+\",' ',x)   #Removing series of dots\n",
        "    #split thing\n",
        "    wordlist = re.split('[!;\\-#?/%$&\\s]', x)  #Splitting the words who have a symbol between them\n",
        "    #go word by word to remove punctuation etc\n",
        "    for word in wordlist:\n",
        "        word = re.sub('[@!0-9]*', '', word) #Remove Numbers\n",
        "        #word = word.replace('-','')\n",
        "        item = word.strip(string.punctuation) #Remove punctuations\n",
        "        if item not in stop_words and item is not '': \n",
        "          list_final.append(item)\n",
        "    return list_final"
      ],
      "execution_count": 11,
      "outputs": []
    },
    {
      "cell_type": "code",
      "metadata": {
        "id": "r79cWsN5i2IC"
      },
      "source": [
        "train_data['Processed Tweet'] = train_data['Tweet'].map(preprocess)\n",
        "test_data['Processed Tweet'] = test_data['Tweet'].map(preprocess)\n",
        "train_sen = list(train_data[\"Sentiment\"])\n",
        "test_sen = list(test_data['Sentiment'])"
      ],
      "execution_count": 12,
      "outputs": []
    },
    {
      "cell_type": "code",
      "metadata": {
        "id": "SILTjSLYjGEV"
      },
      "source": [
        "vocab = []\n",
        "def make_dictionary(x):   #Making My list of words\n",
        "  #print(x);\n",
        "  for word in x:\n",
        "    if word not in vocab: \n",
        "      vocab.append(word)"
      ],
      "execution_count": 13,
      "outputs": []
    },
    {
      "cell_type": "code",
      "metadata": {
        "id": "CL4p-hOPjCJJ"
      },
      "source": [
        "for item in train_data['Processed Tweet']: #Making my vocabalary using the above function\n",
        "    make_dictionary(item)"
      ],
      "execution_count": 14,
      "outputs": []
    },
    {
      "cell_type": "markdown",
      "metadata": {
        "id": "cUyfHjc9p5YS"
      },
      "source": [
        "# Task 3 Word2Vec"
      ]
    },
    {
      "cell_type": "code",
      "metadata": {
        "id": "Lo3BPmh4p7z2",
        "outputId": "0cf247a4-db49-420a-c91b-429c595e3a2e",
        "colab": {
          "base_uri": "https://localhost:8080/",
          "height": 204
        }
      },
      "source": [
        " #!wget https://s3.amazonaws.com/dl4j-distribution/GoogleNews-vectors-negative300.bin.gz"
      ],
      "execution_count": 17,
      "outputs": [
        {
          "output_type": "stream",
          "text": [
            "--2020-10-16 22:10:24--  https://s3.amazonaws.com/dl4j-distribution/GoogleNews-vectors-negative300.bin.gz\n",
            "Resolving s3.amazonaws.com (s3.amazonaws.com)... 52.216.24.230\n",
            "Connecting to s3.amazonaws.com (s3.amazonaws.com)|52.216.24.230|:443... connected.\n",
            "HTTP request sent, awaiting response... 200 OK\n",
            "Length: 1647046227 (1.5G) [application/x-gzip]\n",
            "Saving to: ‘GoogleNews-vectors-negative300.bin.gz.1’\n",
            "\n",
            "GoogleNews-vectors- 100%[===================>]   1.53G  22.9MB/s    in 72s     \n",
            "\n",
            "2020-10-16 22:11:36 (21.8 MB/s) - ‘GoogleNews-vectors-negative300.bin.gz.1’ saved [1647046227/1647046227]\n",
            "\n"
          ],
          "name": "stdout"
        }
      ]
    },
    {
      "cell_type": "code",
      "metadata": {
        "id": "TgCmL-XueLKr"
      },
      "source": [
        "\n",
        "from gensim.models import KeyedVectors\n",
        "import numpy as np\n",
        "import matplotlib.pyplot as plt       #Error fixed here\n"
      ],
      "execution_count": 38,
      "outputs": []
    },
    {
      "cell_type": "code",
      "metadata": {
        "id": "FGkwsB-zwY0f",
        "outputId": "93b7c80a-a2a6-4dd0-bc25-422d4623d261",
        "colab": {
          "base_uri": "https://localhost:8080/",
          "height": 71
        }
      },
      "source": [
        "word2vec = KeyedVectors.load_word2vec_format(\"GoogleNews-vectors-negative300.bin.gz\", binary=True)"
      ],
      "execution_count": 22,
      "outputs": [
        {
          "output_type": "stream",
          "text": [
            "/usr/local/lib/python3.6/dist-packages/smart_open/smart_open_lib.py:252: UserWarning: This function is deprecated, use smart_open.open instead. See the migration notes for details: https://github.com/RaRe-Technologies/smart_open/blob/master/README.rst#migrating-to-the-new-open-function\n",
            "  'See the migration notes for details: %s' % _MIGRATION_NOTES_URL\n"
          ],
          "name": "stderr"
        }
      ]
    },
    {
      "cell_type": "code",
      "metadata": {
        "id": "pybZ5AFpmDId"
      },
      "source": [
        "def extractfeatures(vocab_t):\n",
        "  return np.mean(word2vec[vocab_t], axis=0)"
      ],
      "execution_count": 23,
      "outputs": []
    },
    {
      "cell_type": "code",
      "metadata": {
        "id": "CtsqYRZoRcbU",
        "outputId": "c28941f1-af9c-49e5-fe40-d9d57655e572",
        "colab": {
          "base_uri": "https://localhost:8080/",
          "height": 34
        }
      },
      "source": [
        "freq_train = []\n",
        "freq_test = []\n",
        "\n",
        "for wordlist in train_data['Processed Tweet']:\n",
        "  vocab1 = []\n",
        "  for i in wordlist :\n",
        "    if i in word2vec.vocab:\n",
        "      vocab1.append(i)\n",
        "  \n",
        "  if len(vocab1) > 0:\n",
        "    emb = extractfeatures(vocab1)\n",
        "    emb = emb.tolist()\n",
        "    freq_train.append(emb)\n",
        "\n",
        "print(len(freq_train))\n"
      ],
      "execution_count": 24,
      "outputs": [
        {
          "output_type": "stream",
          "text": [
            "11680\n"
          ],
          "name": "stdout"
        }
      ]
    },
    {
      "cell_type": "code",
      "metadata": {
        "id": "xhPqgQhdnH7t",
        "outputId": "aafd6167-5335-4729-ce14-cbaba5f1f8b4",
        "colab": {
          "base_uri": "https://localhost:8080/",
          "height": 34
        }
      },
      "source": [
        "for wordlist in test_data['Processed Tweet']:\n",
        "  vocab1 = []\n",
        "  for i in wordlist :\n",
        "    if i in word2vec.vocab:\n",
        "      vocab1.append(i)\n",
        "  \n",
        "  if len(vocab1) > 0:\n",
        "    emb = extractfeatures(vocab1)\n",
        "    emb = emb.tolist()\n",
        "    freq_test.append(emb)\n",
        "\n",
        "print(len(freq_test))"
      ],
      "execution_count": 25,
      "outputs": [
        {
          "output_type": "stream",
          "text": [
            "2921\n"
          ],
          "name": "stdout"
        }
      ]
    },
    {
      "cell_type": "code",
      "metadata": {
        "id": "a_hnRGhWn7HM"
      },
      "source": [
        "  y = distance.cdist(freq_test,freq_train, 'euclidean')\n",
        "  ydist = y.tolist()"
      ],
      "execution_count": 26,
      "outputs": []
    },
    {
      "cell_type": "code",
      "metadata": {
        "id": "Jp_eMUEFprGm"
      },
      "source": [
        "test_data['Predicted Sentiment'] = None"
      ],
      "execution_count": 27,
      "outputs": []
    },
    {
      "cell_type": "code",
      "metadata": {
        "id": "57MYI8UqpY2t"
      },
      "source": [
        "def k_n_n(k,dist):\n",
        "\n",
        "  while k>0:\n",
        "    # print(a)\n",
        "    label_k = []\n",
        "    dist = np.array(dist)   #i pass a distance list to this function, argsort basically returns me a list of indexes \n",
        "    kn = dist.argsort()[:k] # distances are sorted and then their indexes are stored so i can access k_nearest\n",
        "    # kn = kn.tolist()\n",
        "    # print(kn)\n",
        "    for i in kn:\n",
        "      # print(a)\n",
        "      sen = train_sen[i]  #Accessing k nearest\n",
        "      label_k.append(sen)\n",
        "\n",
        "    b = Counter(label_k)\n",
        "    \n",
        "    # pred = b.most_common()\n",
        "#Here i am comparing the most common results and returning the 1 most common label.\n",
        "    if len(b) == 1:\n",
        "      return b.most_common(1)[0][0]\n",
        "\n",
        "    elif len(b) == 2:\n",
        "      if b.most_common(2)[0][1] == b.most_common(2)[1][1]:\n",
        "        k -= 1\n",
        "      elif b.most_common(2)[0][1] > b.most_common(2)[1][1]:\n",
        "        return b.most_common(2)[0][0]\n",
        "      elif b.most_common(2)[0][1] < b.most_common(2)[1][1]:\n",
        "        return b.most_common(2)[1][0]\n",
        "\n",
        "    elif len(b) == 3:\n",
        "      if b.most_common(3)[0][1] == b.most_common(3)[1][1] and b.most_common(3)[0][1] == b.most_common(3)[2][1]:\n",
        "        k -= 1\n",
        "      elif b.most_common(3)[0][1] > b.most_common(3)[1][1] and b.most_common(3)[0][1] > b.most_common(3)[2][1] or b.most_common(3)[0][1] > b.most_common(3)[2][1] and b.most_common(3)[0][1] == b.most_common(3)[1][1] :\n",
        "        return b.most_common(3)[0][0]\n",
        "      elif b.most_common(3)[1][1] > b.most_common(3)[0][1] and b.most_common(3)[1][1] > b.most_common(3)[2][1] or b.most_common(3)[1][1] > b.most_common(3)[2][1] and b.most_common(3)[1][1] == b.most_common(3)[0][1] :\n",
        "        return b.most_common(3)[1][0]\n",
        "      elif b.most_common(3)[2][1] > b.most_common(3)[0][1] and b.most_common(3)[2][1] > b.most_common(3)[1][1] or b.most_common(3)[2][1] > b.most_common(3)[1][1] and b.most_common(3)[2][1] == b.most_common(3)[0][1] :\n",
        "        return b.most_common(3)[2][0]"
      ],
      "execution_count": 28,
      "outputs": []
    },
    {
      "cell_type": "code",
      "metadata": {
        "id": "hvrr01WspaGf"
      },
      "source": [
        "def confusion_matrix():\n",
        "  a,b,c,d,e,f,g,h,i = 0,0,0,0,0,0,0,0,0\n",
        "#for confusion matrix for pred_positive row \n",
        "  for k in range(len(test_data['Sentiment'])):\n",
        "    if test_data['Predicted Sentiment'][k] == 'positive' and test_data['Sentiment'][k] == 'positive':\n",
        "      a += 1\n",
        "    elif test_data['Predicted Sentiment'][k] == 'positive' and test_data['Sentiment'][k] == 'neutral':\n",
        "      b += 1\n",
        "    elif test_data['Predicted Sentiment'][k] == 'positive' and test_data['Sentiment'][k] == 'negative':\n",
        "      c += 1 \n",
        "\n",
        "# for confusion matrix for pred_neutral row\n",
        "    if test_data['Predicted Sentiment'][k] == 'neutral' and test_data['Sentiment'][k] == 'positive':\n",
        "      d += 1\n",
        "    elif test_data['Predicted Sentiment'][k] == 'neutral' and test_data['Sentiment'][k] == 'neutral':\n",
        "      e += 1\n",
        "    elif test_data['Predicted Sentiment'][k] == 'neutral' and test_data['Sentiment'][k] == 'negative':\n",
        "      f += 1 \n",
        "\n",
        "# Confusion matrix for pred_negative row \n",
        "\n",
        "    if test_data['Predicted Sentiment'][k] == 'negative' and test_data['Sentiment'][k] == 'positive':\n",
        "      g += 1\n",
        "    elif test_data['Predicted Sentiment'][k] == 'negative' and test_data['Sentiment'][k] == 'neutral':\n",
        "      h += 1\n",
        "    elif test_data['Predicted Sentiment'][k] == 'negative' and test_data['Sentiment'][k] == 'negative':\n",
        "      i += 1\n",
        "  \n",
        "  confuse_matrix = [[a, b, c], [d, e, f], [g, h, i]]\n",
        "  #Basically i get a 3D matrix as a result in row wise fassion,\n",
        "\n",
        "  # print(confuse_matrix)\n",
        "  return confuse_matrix\n",
        "\n",
        "  "
      ],
      "execution_count": 29,
      "outputs": []
    },
    {
      "cell_type": "code",
      "metadata": {
        "id": "wf-DXdmPpfQh"
      },
      "source": [
        "def accuracy(a,b,c,d,e,f,g,h,i):  ## passing a 3D matrix and calculting performance\n",
        "  acc = ((a+e+i)/(a+b+c+d+e+f+g+h+i))*100\n",
        "  return acc"
      ],
      "execution_count": 30,
      "outputs": []
    },
    {
      "cell_type": "code",
      "metadata": {
        "id": "Ml1FfvKEpfq8"
      },
      "source": [
        "def precision(a,b,c,d,e,f,g,h,i): ## \n",
        "  prec_pos = ((a)/(a+b+c))\n",
        "  prec_neut = ((e)/(d+e+f))\n",
        "  prec_neg = ((i)/(g+h+i))\n",
        "\n",
        "  prec = (prec_pos + prec_neut + prec_neg)/3 #Calculating Macro precision\n",
        "\n",
        "  return prec"
      ],
      "execution_count": 31,
      "outputs": []
    },
    {
      "cell_type": "code",
      "metadata": {
        "id": "n9Z79U8Fpf_3"
      },
      "source": [
        "def recall(a,b,c,d,e,f,g,h,i): \n",
        "  rec_pos = ((a)/(a+d+g))\n",
        "  rec_neut = ((e)/(b+e+h))\n",
        "  rec_neg = ((i)/(c+f+i))\n",
        "\n",
        "  rec = (rec_pos + rec_neut + rec_neg)/3 #macro recall\n",
        "\n",
        "  return rec"
      ],
      "execution_count": 32,
      "outputs": []
    },
    {
      "cell_type": "code",
      "metadata": {
        "id": "mHOhYE6wpgUc"
      },
      "source": [
        "def F1_score(p,r):  ## precision and recall\n",
        "  f1 = ((2*p*r)/(p+r))\n",
        "\n",
        "  return f1"
      ],
      "execution_count": 33,
      "outputs": []
    },
    {
      "cell_type": "code",
      "metadata": {
        "id": "Vuexkn9qoVF4",
        "outputId": "05f41179-4c01-4f0d-c271-30bfb2e306dd",
        "colab": {
          "base_uri": "https://localhost:8080/",
          "height": 527
        }
      },
      "source": [
        "k = [1,3,5,7,10]  # My main function you can just change values of K here\n",
        "\n",
        "ac = []\n",
        "pr = []\n",
        "rc = []\n",
        "fs = [] \n",
        "for ind in k:\n",
        "  ind = int(ind)\n",
        "  C = []\n",
        "  for i in range(len(test_data['Tweet'])):\n",
        "    dist = ydist[i]\n",
        "    pred = k_n_n(ind,dist)\n",
        "    test_data['Predicted Sentiment'][i] = pred\n",
        "\n",
        "  C = confusion_matrix()\n",
        "  a = C[0][0] \n",
        "  b = C[0][1] \n",
        "  c = C[0][2]\n",
        "  d = C[1][0] \n",
        "  e = C[1][1] \n",
        "  f = C[1][2]\n",
        "  g = C[2][0] \n",
        "  h = C[2][1] \n",
        "  i = C[2][2]\n",
        "  accu = accuracy(a,b,c,d,e,f,g,h,i)\n",
        "  ac.append(accu)\n",
        "  pre  = precision(a,b,c,d,e,f,g,h,i)*100\n",
        "  pr.append(pre)\n",
        "  rec = recall(a,b,c,d,e,f,g,h,i)*100\n",
        "  rc.append(rec)\n",
        "\n",
        "  f1 = F1_score(pre,rec)\n",
        "  fs.append(f1)\n",
        "\n",
        "  print(\"Performance for k = \",ind)\n",
        "  print(\"accuracy\", accu)\n",
        "  print(\"Precision\", pre)\n",
        "  print(\"Recall\",rec)\n",
        "\n",
        "  print(\"F1 Score\",f1)\n",
        "  print(\"-----------------------------------------------\")\n"
      ],
      "execution_count": 35,
      "outputs": [
        {
          "output_type": "stream",
          "text": [
            "Performance for k =  1\n",
            "accuracy 70.07874015748031\n",
            "Precision 61.048939855692716\n",
            "Recall 59.3786843492892\n",
            "F1 Score 60.20222940510284\n",
            "-----------------------------------------------\n",
            "Performance for k =  3\n",
            "accuracy 73.29681615884971\n",
            "Precision 66.21242530416936\n",
            "Recall 60.05565678773805\n",
            "F1 Score 62.98394056950341\n",
            "-----------------------------------------------\n",
            "Performance for k =  5\n",
            "accuracy 74.11845258473126\n",
            "Precision 68.8886492186751\n",
            "Recall 58.7721962579957\n",
            "F1 Score 63.42958479885794\n",
            "-----------------------------------------------\n",
            "Performance for k =  7\n",
            "accuracy 74.25539198904485\n",
            "Precision 70.94802048735353\n",
            "Recall 58.36701732773385\n",
            "F1 Score 64.04551877524393\n",
            "-----------------------------------------------\n",
            "Performance for k =  10\n",
            "accuracy 74.35809654228004\n",
            "Precision 73.6149690612477\n",
            "Recall 57.50080169276638\n",
            "F1 Score 64.56766738688216\n",
            "-----------------------------------------------\n"
          ],
          "name": "stdout"
        }
      ]
    },
    {
      "cell_type": "code",
      "metadata": {
        "id": "47UlCI9vshz3",
        "outputId": "e770d1c1-0e4d-4082-9e80-db7aa6f0763e",
        "colab": {
          "base_uri": "https://localhost:8080/",
          "height": 1000
        }
      },
      "source": [
        "plt.plot(k,ac)\n",
        "\n",
        "plt.xlabel('k')  \n",
        "plt.ylabel('Accuracy') \n",
        "plt.title('Accruacy Performance Graph')\n",
        "\n",
        "plt.figure()\n",
        "plt.plot(k,pr)\n",
        "plt.xlabel('k')  \n",
        "plt.ylabel('Precision') \n",
        "plt.title('Precision Performance Graph')\n",
        "\n",
        "plt.figure()\n",
        "plt.plot(k,rc)\n",
        "plt.xlabel('k')  \n",
        "plt.ylabel('Recall') \n",
        "plt.title('Recall Performance Graph')\n",
        "\n",
        "plt.figure()\n",
        "plt.plot(k,fs)\n",
        "plt.xlabel('k')  \n",
        "plt.ylabel('F1_Score') \n",
        "plt.title('F1 Performance Graph')\n"
      ],
      "execution_count": 39,
      "outputs": [
        {
          "output_type": "execute_result",
          "data": {
            "text/plain": [
              "Text(0.5, 1.0, 'F1 Performance Graph')"
            ]
          },
          "metadata": {
            "tags": []
          },
          "execution_count": 39
        },
        {
          "output_type": "display_data",
          "data": {
            "image/png": "[encoded data removed]",
            "text/plain": [
              "<Figure size 432x288 with 1 Axes>"
            ]
          },
          "metadata": {
            "tags": [],
            "needs_background": "light"
          }
        },
        {
          "output_type": "display_data",
          "data": {
            "image/png": "[encoded data removed]",
            "text/plain": [
              "<Figure size 432x288 with 1 Axes>"
            ]
          },
          "metadata": {
            "tags": [],
            "needs_background": "light"
          }
        },
        {
          "output_type": "display_data",
          "data": {
            "image/png": "[encoded data removed]",
            "text/plain": [
              "<Figure size 432x288 with 1 Axes>"
            ]
          },
          "metadata": {
            "tags": [],
            "needs_background": "light"
          }
        },
        {
          "output_type": "display_data",
          "data": {
            "image/png": "[encoded data removed]",
            "text/plain": [
              "<Figure size 432x288 with 1 Axes>"
            ]
          },
          "metadata": {
            "tags": [],
            "needs_background": "light"
          }
        }
      ]
    },
    {
      "cell_type": "code",
      "metadata": {
        "id": "-OshuRjXssds",
        "outputId": "96900fed-d17b-45d9-e4fe-1c9a6937a62b",
        "colab": {
          "base_uri": "https://localhost:8080/",
          "height": 1000
        }
      },
      "source": [
        "euc_dist = []\n",
        "pred = []\n",
        "name = ['negative' , 'neutral','positive'] # labels assigned \n",
        "p2 = []\n",
        "r2 = []\n",
        "f2 = []\n",
        "ac2 = []\n",
        "\n",
        "k_nearest = [1,3,5,7,10]\n",
        "\n",
        "\n",
        "for ind in k_nearest:\n",
        "  nearest = KNeighborsClassifier(ind, algorithm = 'brute') # it uses brute algo and returns me nearest neighbours\n",
        "  nearest.fit(freq_train,train_sen)  #Fits the model of training and its freq\n",
        "\n",
        "  prediction = nearest.predict(freq_test)  #predicts the testing tweets sentiment\n",
        "\n",
        "  print('Confusion Matrix')\n",
        "  print(confusion_matrix())       # Error fixed here\n",
        "  print('Classification Report')\n",
        "  print(classification_report(test_sen,prediction, labels = name))\n",
        "  ac = accuracy_score(test_sen,prediction)\n",
        "\n",
        "  class_rep = classification_report(test_sen,prediction, labels = name, output_dict= True) #using dict type so i can access the table\n",
        "\n",
        "  print(\"Accuracy for k = \",ind,\" \",ac)\n",
        "\n",
        "  print('-----------------------------')\n",
        "  # print(\"Classification Report\")\n",
        "  class_rep = np.asarray(class_rep)\n",
        "  class_rep = class_rep.tolist()\n",
        "  # print(class_rep)\n",
        "                                          #Accessing the individual values for plotting\n",
        "  p = class_rep['macro avg']['precision']\n",
        "  p2.append(p)\n",
        "  \n",
        "  r = class_rep['macro avg']['recall']\n",
        "  r2.append(r)\n",
        "\n",
        "  f = class_rep['macro avg']['f1-score']\n",
        "  f2.append(f)\n",
        "\n",
        "  ac2.append(ac)\n"
      ],
      "execution_count": 42,
      "outputs": [
        {
          "output_type": "stream",
          "text": [
            "Confusion Matrix\n",
            "[[253, 63, 16], [25, 132, 31], [194, 420, 1787]]\n",
            "Classification Report\n",
            "              precision    recall  f1-score   support\n",
            "\n",
            "    negative       0.79      0.84      0.81      1834\n",
            "     neutral       0.50      0.39      0.44       615\n",
            "    positive       0.53      0.54      0.53       472\n",
            "\n",
            "    accuracy                           0.70      2921\n",
            "   macro avg       0.61      0.59      0.59      2921\n",
            "weighted avg       0.68      0.70      0.69      2921\n",
            "\n",
            "Accuracy for k =  1   0.6980486134885313\n",
            "-----------------------------\n",
            "Confusion Matrix\n",
            "[[253, 63, 16], [25, 132, 31], [194, 420, 1787]]\n",
            "Classification Report\n",
            "              precision    recall  f1-score   support\n",
            "\n",
            "    negative       0.76      0.93      0.84      1834\n",
            "     neutral       0.60      0.29      0.39       615\n",
            "    positive       0.69      0.53      0.60       472\n",
            "\n",
            "    accuracy                           0.73      2921\n",
            "   macro avg       0.68      0.59      0.61      2921\n",
            "weighted avg       0.71      0.73      0.71      2921\n",
            "\n",
            "Accuracy for k =  3   0.7329681615884971\n",
            "-----------------------------\n",
            "Confusion Matrix\n",
            "[[253, 63, 16], [25, 132, 31], [194, 420, 1787]]\n",
            "Classification Report\n",
            "              precision    recall  f1-score   support\n",
            "\n",
            "    negative       0.75      0.96      0.84      1834\n",
            "     neutral       0.63      0.25      0.36       615\n",
            "    positive       0.76      0.52      0.61       472\n",
            "\n",
            "    accuracy                           0.74      2921\n",
            "   macro avg       0.71      0.58      0.61      2921\n",
            "weighted avg       0.73      0.74      0.70      2921\n",
            "\n",
            "Accuracy for k =  5   0.7408421773365286\n",
            "-----------------------------\n",
            "Confusion Matrix\n",
            "[[253, 63, 16], [25, 132, 31], [194, 420, 1787]]\n",
            "Classification Report\n",
            "              precision    recall  f1-score   support\n",
            "\n",
            "    negative       0.74      0.97      0.84      1834\n",
            "     neutral       0.65      0.22      0.33       615\n",
            "    positive       0.77      0.52      0.62       472\n",
            "\n",
            "    accuracy                           0.74      2921\n",
            "   macro avg       0.72      0.57      0.60      2921\n",
            "weighted avg       0.73      0.74      0.70      2921\n",
            "\n",
            "Accuracy for k =  7   0.7384457377610407\n",
            "-----------------------------\n",
            "Confusion Matrix\n",
            "[[253, 63, 16], [25, 132, 31], [194, 420, 1787]]\n",
            "Classification Report\n",
            "              precision    recall  f1-score   support\n",
            "\n",
            "    negative       0.73      0.98      0.84      1834\n",
            "     neutral       0.72      0.20      0.31       615\n",
            "    positive       0.79      0.49      0.60       472\n",
            "\n",
            "    accuracy                           0.74      2921\n",
            "   macro avg       0.75      0.55      0.58      2921\n",
            "weighted avg       0.74      0.74      0.69      2921\n",
            "\n",
            "Accuracy for k =  10   0.7353646011639849\n",
            "-----------------------------\n"
          ],
          "name": "stdout"
        }
      ]
    },
    {
      "cell_type": "code",
      "metadata": {
        "id": "F0KRZajFpEa7",
        "outputId": "ae0d5937-bced-464b-9bc6-4ff154ede36c",
        "colab": {
          "base_uri": "https://localhost:8080/",
          "height": 1000
        }
      },
      "source": [
        "print(ac2)\n",
        "plt.figure()\n",
        "plt.plot(k,ac2)\n",
        "plt.xlabel('k')  \n",
        "plt.ylabel('Accuracy') \n",
        "plt.title('Accruacy Performance Graph')\n",
        "\n",
        "print(p2)\n",
        "plt.figure()\n",
        "plt.plot(k,p2)\n",
        "plt.xlabel('k')  \n",
        "plt.ylabel('Precision') \n",
        "plt.title('Precision Performance Graph')\n",
        "\n",
        "print(r2)\n",
        "plt.figure()\n",
        "plt.plot(k,r2)\n",
        "plt.xlabel('k')  \n",
        "plt.ylabel('Recall') \n",
        "plt.title('Recall Performance Graph')\n",
        "\n",
        "print(f2)\n",
        "plt.figure()\n",
        "plt.plot(k,f2)\n",
        "plt.xlabel('k')  \n",
        "plt.ylabel('F1_Score') \n",
        "plt.title('F1 Performance Graph')"
      ],
      "execution_count": 43,
      "outputs": [
        {
          "output_type": "stream",
          "text": [
            "[0.6980486134885313, 0.7329681615884971, 0.7408421773365286, 0.7384457377610407, 0.7353646011639849]\n",
            "[0.6056030383242522, 0.6822120998279163, 0.7112308950430664, 0.7194954724174352, 0.7453048413430098]\n",
            "[0.5891860511770007, 0.5859771901001637, 0.5771196634022419, 0.5702157199704448, 0.553735824426429]\n",
            "[0.5945278229650618, 0.6105753611955275, 0.6056512994097695, 0.5968236589947746, 0.5814986208903896]\n"
          ],
          "name": "stdout"
        },
        {
          "output_type": "execute_result",
          "data": {
            "text/plain": [
              "Text(0.5, 1.0, 'F1 Performance Graph')"
            ]
          },
          "metadata": {
            "tags": []
          },
          "execution_count": 43
        },
        {
          "output_type": "display_data",
          "data": {
            "image/png": "[encoded data removed]",
            "text/plain": [
              "<Figure size 432x288 with 1 Axes>"
            ]
          },
          "metadata": {
            "tags": [],
            "needs_background": "light"
          }
        },
        {
          "output_type": "display_data",
          "data": {
            "image/png": "[encoded data removed]",
            "text/plain": [
              "<Figure size 432x288 with 1 Axes>"
            ]
          },
          "metadata": {
            "tags": [],
            "needs_background": "light"
          }
        },
        {
          "output_type": "display_data",
          "data": {
            "image/png": "[encoded data removed]",
            "text/plain": [
              "<Figure size 432x288 with 1 Axes>"
            ]
          },
          "metadata": {
            "tags": [],
            "needs_background": "light"
          }
        },
        {
          "output_type": "display_data",
          "data": {
            "image/png": "[encoded data removed]",
            "text/plain": [
              "<Figure size 432x288 with 1 Axes>"
            ]
          },
          "metadata": {
            "tags": [],
            "needs_background": "light"
          }
        }
      ]
    },
    {
      "cell_type": "code",
      "metadata": {
        "id": "q0_PbGJRfHPu"
      },
      "source": [
        ""
      ],
      "execution_count": 37,
      "outputs": []
    }
  ]
}
