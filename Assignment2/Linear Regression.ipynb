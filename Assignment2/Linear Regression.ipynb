{
  "nbformat": 4,
  "nbformat_minor": 0,
  "metadata": {
    "kernelspec": {
      "display_name": "Python 3",
      "language": "python",
      "name": "python3"
    },
    "language_info": {
      "codemirror_mode": {
        "name": "ipython",
        "version": 3
      },
      "file_extension": ".py",
      "mimetype": "text/x-python",
      "name": "python",
      "nbconvert_exporter": "python",
      "pygments_lexer": "ipython3",
      "version": "3.7.5"
    },
    "colab": {
      "name": "21100088.ipynb",
      "provenance": []
    },
    "accelerator": "GPU"
  },
  "cells": [
    {
      "cell_type": "markdown",
      "metadata": {
        "id": "af4MARDjQW0O"
      },
      "source": [
        "## 1. Linear Regression with one variable\n",
        "\n",
        "Linear regression assumes a linear relationship between the input variables (X) and the single output variable (Y). More specifically, that output (Y) can be calculated from a linear combination of the input variables (X). When there is a single input variable, the method is referred to as a simple linear regression.\n",
        "\n",
        "Now you will implement simple linear regression to predict profits for a food truck. Suppose you are the CEO of a restaurant franchise and are considering different cities for opening a new outlet. The chain already has trucks in various cities and you have data for profits and populations from the cities. You would like to use this data to help you select which city to expand to next."
      ]
    },
    {
      "cell_type": "markdown",
      "metadata": {
        "id": "bjskiElcQW0H"
      },
      "source": [
        "# Programming Assignment 2: Linear Regression\n",
        "\n",
        "## Instructions\n",
        "\n",
        "- The aim of this assignment is to give you a hands-on with a real-life machine learning application.\n",
        "- Use separate training, and testing data as discussed in class.\n",
        "- You can only use Python programming language and Jupyter Notebooks.\n",
        "- There are three parts of this assignment. In parts 1 & 2, you can only use **numpy, scipy, pandas, matplotlib and are not allowed to use NLTK, scikit-learn or any other machine learning toolkit**. However, you have to use **scikit-learn** in part 3.\n",
        "- Carefully read the submission instructions, plagiarism and late days policy below.\n",
        "- Deadline to submit this assignment is: **Friday, 30th October 2020**.\n",
        "\n",
        "## Submission Instructions\n",
        "\n",
        "Submit your code both as notebook file (.ipynb) and python script (.py) on LMS. The name of both files should be your roll number. If you don’t know how to save .ipynb as .py [see this](https://i.stack.imgur.com/L1rQH.png). **Failing to submit any one of them will result in the reduction of marks**.\n",
        "\n",
        "## Plagiarism Policy\n",
        "\n",
        "The code MUST be done independently. Any plagiarism or cheating of work from others or the internet will be immediately referred to the DC. If you are confused about what constitutes plagiarism, it is YOUR responsibility to consult with the instructor or the TA in a timely manner. No “after the fact” negotiations will be possible. The only way to guarantee that you do not lose marks is “DO NOT LOOK AT ANYONE ELSE'S CODE NOR DISCUSS IT WITH THEM”.\n",
        "\n",
        "## Late Days Policy\n",
        "\n",
        "The deadline of the assignment is final. However, in order to accommodate all the 11th hour issues there is a late submission policy i.e. you can submit your assignment within 3 days after the deadline with 25% deduction each day.\n",
        "\n",
        "\n",
        "## Introduction\n",
        "\n",
        "In this exercise, you will implement linear regression and get to see it work on data. After completing this assignment, you will know:\n",
        "- How to implement linear regression from scratch.\n",
        "- How to estimate linear regression parameters using gradient descent.\n",
        "- How to make predictions on new data using learned parameters.\n",
        "\n",
        "Let's start with the necessary imports."
      ]
    },
    {
      "cell_type": "code",
      "metadata": {
        "id": "VoR2fqYp20rP",
        "outputId": "0f54726d-54c5-4563-bdd9-6c47b87bb743",
        "colab": {
          "base_uri": "https://localhost:8080/",
          "height": 34
        }
      },
      "source": [
        "import IPython\n",
        "from google.colab import output\n",
        "display(IPython.display.Javascript('''\n",
        " function ClickConnect(){\n",
        "   btn = document.querySelector(\"colab-connect-button\")\n",
        "   if (btn != null){\n",
        "     console.log(\"Click colab-connect-button\");\n",
        "     btn.click()\n",
        "     }\n",
        "   btn = document.getElementById('ok')\n",
        "   if (btn != null){\n",
        "     console.log(\"Click reconnect\");\n",
        "     btn.click()\n",
        "     }\n",
        "  }\n",
        "setInterval(ClickConnect,60000)\n",
        "'''))\n",
        "print(\"Done.\")"
      ],
      "execution_count": 1,
      "outputs": [
        {
          "output_type": "display_data",
          "data": {
            "application/javascript": [
              "\n",
              " function ClickConnect(){\n",
              "   btn = document.querySelector(\"colab-connect-button\")\n",
              "   if (btn != null){\n",
              "     console.log(\"Click colab-connect-button\");\n",
              "     btn.click()\n",
              "     }\n",
              "   btn = document.getElementById('ok')\n",
              "   if (btn != null){\n",
              "     console.log(\"Click reconnect\");\n",
              "     btn.click()\n",
              "     }\n",
              "  }\n",
              "setInterval(ClickConnect,60000)\n"
            ],
            "text/plain": [
              "<IPython.core.display.Javascript object>"
            ]
          },
          "metadata": {
            "tags": []
          }
        },
        {
          "output_type": "stream",
          "text": [
            "Done.\n"
          ],
          "name": "stdout"
        }
      ]
    },
    {
      "cell_type": "code",
      "metadata": {
        "id": "80bpxfbyDxTW",
        "outputId": "fb556d17-8801-4d23-a6e7-01d4e681f0bf",
        "colab": {
          "base_uri": "https://localhost:8080/"
        }
      },
      "source": [
        "from google.colab import drive\n",
        "drive.mount('/content/gdrive')"
      ],
      "execution_count": 2,
      "outputs": [
        {
          "output_type": "stream",
          "text": [
            "Drive already mounted at /content/gdrive; to attempt to forcibly remount, call drive.mount(\"/content/gdrive\", force_remount=True).\n"
          ],
          "name": "stdout"
        }
      ]
    },
    {
      "cell_type": "code",
      "metadata": {
        "id": "A6ymd6YuD01K",
        "outputId": "a3b3e625-5cc8-4e39-b18c-cc0fef298560",
        "colab": {
          "base_uri": "https://localhost:8080/"
        }
      },
      "source": [
        "%cd /content/gdrive/My\\ Drive/ML/Programming_Assignment_2/"
      ],
      "execution_count": 3,
      "outputs": [
        {
          "output_type": "stream",
          "text": [
            "/content/gdrive/My Drive/ML/Programming_Assignment_2\n"
          ],
          "name": "stdout"
        }
      ]
    },
    {
      "cell_type": "code",
      "metadata": {
        "id": "FH0ofvDaD3id",
        "outputId": "2f2e56e7-2adc-4347-a0df-3c6bc33b2f13",
        "colab": {
          "base_uri": "https://localhost:8080/"
        }
      },
      "source": [
        "%ls"
      ],
      "execution_count": 4,
      "outputs": [
        {
          "output_type": "stream",
          "text": [
            "\u001b[0m\u001b[01;34mData\u001b[0m/\n"
          ],
          "name": "stdout"
        }
      ]
    },
    {
      "cell_type": "code",
      "metadata": {
        "id": "ej0ifE9VQW0J"
      },
      "source": [
        "import os\n",
        "import numpy as np\n",
        "from matplotlib import pyplot \n",
        "%matplotlib inline\n",
        "import statistics\n",
        "import math"
      ],
      "execution_count": 5,
      "outputs": []
    },
    {
      "cell_type": "markdown",
      "metadata": {
        "id": "ul6BsIEnQW0R"
      },
      "source": [
        "### 1.1 Load the dataset\n",
        "\n",
        "The file `Data/ex1data1.txt` contains the dataset for our linear regression problem. The first column is the population of a city (in 10,000s) and the second column is the profit of a food truck in that city (in $10,000s). A negative value for profit indicates a loss. \n",
        "\n",
        "We provide you with the code needed to load this data. The dataset is loaded from the data file into the variables `X` and `Y`."
      ]
    },
    {
      "cell_type": "code",
      "metadata": {
        "id": "6kXsaamHQW0S"
      },
      "source": [
        "data = np.loadtxt(os.path.join('Data', 'ex1data.txt'), delimiter=',')\n",
        "X, Y = data[:, 0], data[:, 1]"
      ],
      "execution_count": 6,
      "outputs": []
    },
    {
      "cell_type": "markdown",
      "metadata": {
        "id": "TYfUipxkQW0V"
      },
      "source": [
        "### 1.2 Plot the dataset\n",
        "Before starting on any task, it is often useful to understand the data by visualizing it. For this dataset, you can use a scatter plot to visualize the data, since it has only two properties to plot (profit and population). Execute the next cell to visualize the data."
      ]
    },
    {
      "cell_type": "code",
      "metadata": {
        "id": "J0nS-jReQW0W",
        "outputId": "fbb7fe22-e4a9-44d0-bb43-b9f53f926bcf",
        "colab": {
          "base_uri": "https://localhost:8080/",
          "height": 0
        }
      },
      "source": [
        "pyplot.plot(X, Y, 'ro', ms=10, mec='k')\n",
        "pyplot.ylabel('Profit in $10,000')\n",
        "pyplot.xlabel('Population of City in 10,000s')"
      ],
      "execution_count": 7,
      "outputs": [
        {
          "output_type": "execute_result",
          "data": {
            "text/plain": [
              "Text(0.5, 0, 'Population of City in 10,000s')"
            ]
          },
          "metadata": {
            "tags": []
          },
          "execution_count": 7
        },
        {
          "output_type": "display_data",
          "data": {
            "image/png": "[encoded data removed]",
            "text/plain": [
              "<Figure size 432x288 with 1 Axes>"
            ]
          },
          "metadata": {
            "tags": [],
            "needs_background": "light"
          }
        }
      ]
    },
    {
      "cell_type": "markdown",
      "metadata": {
        "id": "AeJfYdBgQW0Z"
      },
      "source": [
        "### 1.3 Learn the parameters\n",
        "In this part, you will fit the linear regression parameters $\\theta$ to the food truck dataset using gradient descent.\n",
        "\n",
        "The objective of linear regression is to minimize the cost function\n",
        "\n",
        "$$ J(\\theta) = \\frac{1}{2m} \\sum_{i=1}^m \\left( h_{\\theta}(x^{(i)}) - y^{(i)}\\right)^2 ------ (i)$$ \n",
        "\n",
        "where the hypothesis $h_\\theta(x)$ is given by the linear model\n",
        "$$ h_\\theta(x) = \\theta_0 + \\theta_1 x ------ (ii)$$\n",
        "\n",
        "The parameters of your model are the $\\theta_j$ values. These are\n",
        "the values you will adjust to minimize cost $J(\\theta)$. One way to do this is to\n",
        "use the batch gradient descent algorithm. In batch gradient descent, each\n",
        "iteration performs the update\n",
        "\n",
        "$$ \\theta_0 = \\theta_0 - \\alpha \\frac{1}{m} \\sum_{i=1}^m \\left( h_\\theta(x^{(i)}) - y^{(i)}\\right) ------ (iii)$$\n",
        "\n",
        "$$ \\theta_1 = \\theta_1 - \\alpha \\frac{1}{m} \\sum_{i=1}^m \\left( h_\\theta(x^{(i)}) - y^{(i)}\\right)x^{(i)} ------ (iv)$$\n",
        "\n",
        "With each step of gradient descent, your parameters $\\theta_j$ come closer to the optimal values that will achieve the lowest cost J($\\theta$).\n",
        "\n",
        "Let's start by implementing the hypothesis $h_\\theta(x)$."
      ]
    },
    {
      "cell_type": "code",
      "metadata": {
        "id": "eGbZllfaQW0a"
      },
      "source": [
        "### GRADED FUNCTION ###\n",
        "def predict(x, theta0, theta1):\n",
        "    '''\n",
        "    Calculates the hypothesis for any input sample `x` given the parameters `theta`.\n",
        "    \n",
        "    Arguments\n",
        "    ---------\n",
        "    x : float\n",
        "        The input sample.\n",
        "    \n",
        "    theta0 : float\n",
        "        The parameter for the regression function.\n",
        "        \n",
        "    theta1 : float\n",
        "        The parameter for the regression function.\n",
        "    \n",
        "    Returns\n",
        "    -------\n",
        "    h_x : float\n",
        "        The hypothesis for input sample.\n",
        "    \n",
        "    Hint(s)\n",
        "    -------\n",
        "    Compute equation (ii).\n",
        "    '''\n",
        "    # You need to return the following variable(s) correctly\n",
        "    h_x = 0.0\n",
        "    \n",
        "    ### START CODE HERE ### (≈ 1 line of code)\n",
        "    h_x = theta0 + theta1*x\n",
        "    ### END CODE HERE ###\n",
        "    \n",
        "    return h_x"
      ],
      "execution_count": 8,
      "outputs": []
    },
    {
      "cell_type": "markdown",
      "metadata": {
        "id": "uur8dwcyQW0e"
      },
      "source": [
        "Execute the next cell to verify your implementation."
      ]
    },
    {
      "cell_type": "code",
      "metadata": {
        "id": "OBG6EEYJQW0f",
        "outputId": "41e9eca2-3bf7-4172-a9df-c6ca167bcf30",
        "colab": {
          "base_uri": "https://localhost:8080/"
        }
      },
      "source": [
        "h_x = predict(x=2, theta0=1.0, theta1=1.0)\n",
        "print('With x = 2, theta0 = 1.0, theta1 = 1.0\\nPredicted Hypothesis h(x) = %.2f' % h_x)\n",
        "print(\"Expected hypothesis h(x) = 3.00\\n\")"
      ],
      "execution_count": 9,
      "outputs": [
        {
          "output_type": "stream",
          "text": [
            "With x = 2, theta0 = 1.0, theta1 = 1.0\n",
            "Predicted Hypothesis h(x) = 3.00\n",
            "Expected hypothesis h(x) = 3.00\n",
            "\n"
          ],
          "name": "stdout"
        }
      ]
    },
    {
      "cell_type": "markdown",
      "metadata": {
        "id": "xYuHN2JQQW0o"
      },
      "source": [
        "As you perform gradient descent to learn minimize the cost function  $J(\\theta)$, it is helpful to monitor the convergence by computing the cost. In this section, you will implement a function to calculate  $J(\\theta)$ so you can check the convergence of your gradient descent implementation."
      ]
    },
    {
      "cell_type": "code",
      "metadata": {
        "id": "1U5eboQJQW0p"
      },
      "source": [
        "### GRADED FUNCTION ###\n",
        "def computeCost(X, Y, theta0, theta1):\n",
        "    '''\n",
        "    Computes cost for linear regression. Computes the cost of using `theta` as the\n",
        "    parameter for linear regression to fit the data points in `X` and `Y`.\n",
        "    \n",
        "    Arguments\n",
        "    ---------\n",
        "    X : array\n",
        "        The input dataset of shape (m, ), where m is the number of training examples.\n",
        "    \n",
        "    Y : array\n",
        "        The values of the function at each data point. This is a vector of\n",
        "        shape (m, ), where m is the number of training examples.\n",
        "    \n",
        "    theta0 : float\n",
        "        The parameter for the regression function.\n",
        "        \n",
        "    theta1 : float\n",
        "        The parameter for the regression function.\n",
        "    \n",
        "    Returns\n",
        "    -------\n",
        "    J : float\n",
        "        The value of the regression cost function.\n",
        "    \n",
        "    Hint(s)\n",
        "    -------\n",
        "    Compute equation (i).\n",
        "    '''\n",
        "    # initialize some useful values\n",
        "    m = Y.size  # number of training examples\n",
        "    \n",
        "    # You need to return the following variable(s) correctly\n",
        "    J = 0\n",
        "        \n",
        "    ### START CODE HERE ### (≈ 3-4 lines of code)\n",
        "    \n",
        "    s = 0.0\n",
        "    for i in range(m):\n",
        "    \n",
        "      diff = (predict(X[i],theta0,theta1) - Y[i])**2 # using predict function to find h_theta and then finding the error\n",
        "      s = s + diff\n",
        "  \n",
        "    J = (1/(2*m))*s # cost function\n",
        "\n",
        "    ### END CODE HERE ###\n",
        "    \n",
        "    return J"
      ],
      "execution_count": 10,
      "outputs": []
    },
    {
      "cell_type": "markdown",
      "metadata": {
        "id": "5uj2BClyQW0t"
      },
      "source": [
        "Execute the next cell to verify your implementation."
      ]
    },
    {
      "cell_type": "code",
      "metadata": {
        "id": "J9v1Y_NwQW0u",
        "outputId": "dfcbec61-413a-4719-9b43-e16e5c2790e8",
        "colab": {
          "base_uri": "https://localhost:8080/"
        }
      },
      "source": [
        "J = computeCost(X, Y, theta0=1.0, theta1=1.0)\n",
        "print('With theta0 = 1.0, theta1 = 1.0\\nPredicted cost J = %.2f' % J)\n",
        "print(\"Expected cost J = 10.27\\n\")"
      ],
      "execution_count": 11,
      "outputs": [
        {
          "output_type": "stream",
          "text": [
            "With theta0 = 1.0, theta1 = 1.0\n",
            "Predicted cost J = 10.27\n",
            "Expected cost J = 10.27\n",
            "\n"
          ],
          "name": "stdout"
        }
      ]
    },
    {
      "cell_type": "markdown",
      "metadata": {
        "id": "hC2IPS60QW0y"
      },
      "source": [
        "Next, you will complete a function which implements gradient descent. The loop structure has been written for you, and you only need to supply the updates to parameters $\\theta_j$  within each iteration (epoch). \n",
        "\n",
        "The starter code for the function `gradientDescent` calls `computeCost` on every iteration and saves the cost to a `python` list. Assuming you have implemented `gradientDescent` and `computeCost` correctly, your value of $J(\\theta)$ should never increase, and should converge to a steady value by the end of the algorithm."
      ]
    },
    {
      "cell_type": "code",
      "metadata": {
        "id": "VYl5Ix2UQW00"
      },
      "source": [
        "### GRADED FUNCTION ###\n",
        "def gradientDescent(X, Y, alpha, n_epoch):\n",
        "    \"\"\"\n",
        "    Performs gradient descent to learn `theta`. Updates `theta` by taking `n_epoch`\n",
        "    gradient steps with learning rate `alpha`.\n",
        "    \n",
        "    Arguments\n",
        "    ---------\n",
        "    X : array\n",
        "        The input dataset of shape (m, ), where m is the number of training examples.\n",
        "    \n",
        "    Y : array\n",
        "        The values of the function at each data point. This is a vector of\n",
        "        shape (m, ), where m is the number of training examples.\n",
        "    \n",
        "    alpha : float\n",
        "        The learning rate.\n",
        "    \n",
        "    n_epoch : int\n",
        "        The number of iterations for gradient descent. \n",
        "    \n",
        "    Returns\n",
        "    -------\n",
        "    theta0 : float\n",
        "        The parameter for the regression function.\n",
        "        \n",
        "    theta1 : float\n",
        "        The parameter for the regression function.\n",
        "    \n",
        "    J : list\n",
        "        A python list for the values of the cost function after each iteration.\n",
        "    \n",
        "    Hint(s)\n",
        "    -------\n",
        "    Compute equation (iii) and (iv).\n",
        "\n",
        "    While debugging, it can be useful to print out the values of \n",
        "    the cost function (computeCost) here.\n",
        "    \"\"\"\n",
        "    # initialize some useful values\n",
        "    m = Y.size  # number of training examples\n",
        "    J = list()  # list to store cost\n",
        "    \n",
        "    # You need to return the following variables correctly\n",
        "    theta0 = 0.0\n",
        "    theta1 = 0.0\n",
        "    \n",
        "    #print(s1,s2)\n",
        "    for epoch in range(n_epoch):\n",
        "        ### START CODE HERE ### (≈ 5-10 lines of code)\n",
        "        #J = computeCost(X[epoch],Y[epoch],theta0,theta1)\n",
        "        s1,s2 = 0.0,0.0\n",
        "        for i in range(m):\n",
        "          d = predict(X[i],theta0,theta1)-Y[i]\n",
        "          \n",
        "          s1 = s1 + d\n",
        "          s2 = s2 + d*X[i]\n",
        "\n",
        "        theta0 = theta0 - alpha*(1/m)*s1\n",
        "        theta1 = theta1 - alpha*(1/m)*s2\n",
        "        \n",
        "        \n",
        "        ### END CODE HERE ###\n",
        "\n",
        "        J.append(computeCost(X, Y, theta0, theta1))\n",
        "    return theta0, theta1, J"
      ],
      "execution_count": 12,
      "outputs": []
    },
    {
      "cell_type": "markdown",
      "metadata": {
        "id": "6zBVa94TQW04"
      },
      "source": [
        "Execute the next cell to verify your implementation."
      ]
    },
    {
      "cell_type": "code",
      "metadata": {
        "id": "MCdlS4X7QW05",
        "outputId": "15c05d30-7fa9-4b31-d23a-8084da3839ab",
        "colab": {
          "base_uri": "https://localhost:8080/"
        }
      },
      "source": [
        "n_epoch = 1500\n",
        "alpha = 0.01\n",
        "\n",
        "theta0, theta1, J = gradientDescent(X ,Y, alpha, n_epoch)\n",
        "print('Predicted theta0 = %.4f, theta1 = %.4f, cost = %.4f' % (theta0, theta1, J[-1]))\n",
        "print('Expected theta0 = -3.6303, theta1 = 1.1664, cost = 4.4834')"
      ],
      "execution_count": 13,
      "outputs": [
        {
          "output_type": "stream",
          "text": [
            "Predicted theta0 = -3.6303, theta1 = 1.1664, cost = 4.4834\n",
            "Expected theta0 = -3.6303, theta1 = 1.1664, cost = 4.4834\n"
          ],
          "name": "stdout"
        }
      ]
    },
    {
      "cell_type": "markdown",
      "metadata": {
        "id": "Y0X3BaRuQW0-"
      },
      "source": [
        "### 1.4 Plot the linear fit\n",
        "\n",
        "Use your learned parameters $\\theta_j$ to plot the linear fit."
      ]
    },
    {
      "cell_type": "code",
      "metadata": {
        "id": "G5xaK4UOQW0_",
        "outputId": "8eaf29c6-43c2-4f0e-d123-d873012eebf0",
        "colab": {
          "base_uri": "https://localhost:8080/",
          "height": 0
        }
      },
      "source": [
        "h_x = list()\n",
        "for x in X:\n",
        "    h_x.append(predict(x, theta0, theta1))\n",
        "pyplot.plot(X, Y, 'ro', ms=10, mec='k')\n",
        "pyplot.ylabel('Profit in $10,000')\n",
        "pyplot.xlabel('Population of City in 10,000s')\n",
        "pyplot.plot(X, h_x, '-')\n",
        "pyplot.legend(['Training data', 'Linear regression'])"
      ],
      "execution_count": 14,
      "outputs": [
        {
          "output_type": "execute_result",
          "data": {
            "text/plain": [
              "<matplotlib.legend.Legend at 0x7f2f8c1ed128>"
            ]
          },
          "metadata": {
            "tags": []
          },
          "execution_count": 14
        },
        {
          "output_type": "display_data",
          "data": {
            "image/png": "[encoded data removed]",
            "text/plain": [
              "<Figure size 432x288 with 1 Axes>"
            ]
          },
          "metadata": {
            "tags": [],
            "needs_background": "light"
          }
        }
      ]
    },
    {
      "cell_type": "markdown",
      "metadata": {
        "id": "DFF9GY3zQW1H"
      },
      "source": [
        "### 1.5 Make predictions\n",
        "\n",
        "Use your learned parameters $\\theta_j$ to make food truck profit predictions in areas with population of 40,000 and 65,000."
      ]
    },
    {
      "cell_type": "code",
      "metadata": {
        "id": "iaoD2u_GQW1I",
        "outputId": "9f90f454-1386-458d-e062-346f12cd1d82",
        "colab": {
          "base_uri": "https://localhost:8080/"
        }
      },
      "source": [
        "print('For population = 40,000, predicted profit = $%.2f' % (predict(4, theta0, theta1)*10000))\n",
        "print('For population = 65,000, predicted profit = $%.2f' % (predict(6.5, theta0, theta1)*10000))"
      ],
      "execution_count": 15,
      "outputs": [
        {
          "output_type": "stream",
          "text": [
            "For population = 40,000, predicted profit = $10351.58\n",
            "For population = 65,000, predicted profit = $39510.64\n"
          ],
          "name": "stdout"
        }
      ]
    },
    {
      "cell_type": "markdown",
      "metadata": {
        "id": "-6heX5HZQW1M"
      },
      "source": [
        "## 2. Multivariate Linear Regression\n",
        "\n",
        "Now, you will implement multivariate linear regression (from scratch) to predict the the median price of homes in a Boston suburb during the mid-1970s. To do this, you are given with the dataset that has 404 examples in the train set and 102 examples in test set. Each example has 13 input variables (features) and one output variable (price in $10,000s). Below is the description of input variables:\n",
        "\n",
        "- Per capita crime rate.\n",
        "- The proportion of residential land zoned for lots over 25,000 square feet.\n",
        "- The proportion of non-retail business acres per town.\n",
        "- Charles River dummy variable (= 1 if tract bounds river; 0 otherwise).\n",
        "- Nitric oxides concentration (parts per 10 million).\n",
        "- The average number of rooms per dwelling.\n",
        "- The proportion of owner-occupied units built before 1940.\n",
        "- Weighted distances to five Boston employment centers.\n",
        "- Index of accessibility to radial highways.\n",
        "- Full-value property-tax rate per $10,000.\n",
        "- Pupil-teacher ratio by town.\n",
        "- 1000 * (Bk - 0.63) ** 2 where Bk is the proportion of Black people by town.\n",
        "- Percentage lower status of the population.\n",
        "\n",
        "Each one of these input features is stored using a different scale. Some features are represented by a proportion between 0 and 1, other features are ranges between 1 and 12, some are ranges between 0 and 100, and so on. This is often the case with real-world data, and understanding how to explore and clean such data is an important skill to develop.\n",
        "\n",
        "A common way to normalize features that use different scales and ranges is:\n",
        "\n",
        "- Subtract the mean value of each feature from the dataset.\n",
        "- After subtracting the mean, additionally scale (divide) the feature values by their respective standard deviations.\n",
        "\n",
        "Note: We only use examples of the train set to estimate the mean and standard deviation.\n",
        "\n",
        "You have to follow exactly the same steps as above i.e. implement hypothesis, cost function and gradient descent for multivariate linear regression to learn parameters $\\theta$ using train set. Finally, report the cost (error) using your learned parameters $\\theta$ on test set. Expected Mean Square Error on this dataset is 11.5 - 12.5 approximately. \n",
        "\n",
        "We provide you with the code needed to load this dataset. The dataset is loaded from the data files into the variables `train_X`, `train_Y`, `test_X` and `test_Y`."
      ]
    },
    {
      "cell_type": "markdown",
      "metadata": {
        "id": "LMIPHajO2YOB"
      },
      "source": [
        "#Loading the Data"
      ]
    },
    {
      "cell_type": "code",
      "metadata": {
        "id": "0cyqvuUxQW1N"
      },
      "source": [
        "train_X = np.loadtxt(os.path.join('Data', 'ex2traindata.txt'))\n",
        "train_Y = np.loadtxt(os.path.join('Data', 'ex2trainlabels.txt'))\n",
        "test_X = np.loadtxt(os.path.join('Data', 'ex2testdata.txt'))\n",
        "test_Y = np.loadtxt(os.path.join('Data', 'ex2testlabels.txt'))"
      ],
      "execution_count": 16,
      "outputs": []
    },
    {
      "cell_type": "code",
      "metadata": {
        "id": "R3JT0eYRQW1R",
        "outputId": "baa2f244-cb34-429f-a33e-c37557192ca8",
        "colab": {
          "base_uri": "https://localhost:8080/"
        }
      },
      "source": [
        "''' Start your code of part 2 from here, add the new code cells as per your requirement. '''\n",
        "train_X.shape\n"
      ],
      "execution_count": 17,
      "outputs": [
        {
          "output_type": "execute_result",
          "data": {
            "text/plain": [
              "(404, 13)"
            ]
          },
          "metadata": {
            "tags": []
          },
          "execution_count": 17
        }
      ]
    },
    {
      "cell_type": "code",
      "metadata": {
        "id": "MheWfaYmaK1Y",
        "outputId": "05dc7880-e902-4736-fbf1-da751974a1ac",
        "colab": {
          "base_uri": "https://localhost:8080/"
        }
      },
      "source": [
        "train_Y.shape"
      ],
      "execution_count": 18,
      "outputs": [
        {
          "output_type": "execute_result",
          "data": {
            "text/plain": [
              "(404,)"
            ]
          },
          "metadata": {
            "tags": []
          },
          "execution_count": 18
        }
      ]
    },
    {
      "cell_type": "code",
      "metadata": {
        "id": "Pve74EaRbV08"
      },
      "source": [
        "# x0,x1,x2, x3, x4, x5, x6, x6, x8, x9, x10, x11, x12, x13\n",
        "x0= np.ones(len(train_X))\n",
        "x1 = train_X[:,0] \n",
        "x2 = train_X[:,1]\n",
        "x3 = train_X[:,2] \n",
        "x4 = train_X[:,3]\n",
        "x5 = train_X[:,4] \n",
        "x6 = train_X[:,5]\n",
        "x7 = train_X[:,6] \n",
        "x8 = train_X[:,7]\n",
        "x9 = train_X[:,8] \n",
        "x10 = train_X[:,9]\n",
        "x11 = train_X[:,10]\n",
        "x12 = train_X[:,11]\n",
        "x13 = train_X[:,12]\n",
        "X = [x0,x1,x2, x3, x4, x5, x6, x6, x8, x9, x10, x11, x12, x13]"
      ],
      "execution_count": 19,
      "outputs": []
    },
    {
      "cell_type": "code",
      "metadata": {
        "id": "D5ttRdbjNjDH"
      },
      "source": [
        "test_X.shape\n",
        "tx0= np.ones(len(test_X))\n",
        "tx1 = test_X[:,0] \n",
        "tx2 = test_X[:,1]\n",
        "tx3 = test_X[:,2] \n",
        "tx4 = test_X[:,3]\n",
        "tx5 = test_X[:,4] \n",
        "tx6 = test_X[:,5]\n",
        "tx7 = test_X[:,6] \n",
        "tx8 = test_X[:,7]\n",
        "tx9 = test_X[:,8] \n",
        "tx10 = test_X[:,9]\n",
        "tx11 = test_X[:,10]\n",
        "tx12 = test_X[:,11]\n",
        "tx13 = test_X[:,12]\n",
        "\n",
        "t_X = [tx0,tx1,tx2, tx3, tx4, tx5, tx6, tx6, tx8, tx9, tx10, tx11, tx12, tx13]"
      ],
      "execution_count": 20,
      "outputs": []
    },
    {
      "cell_type": "code",
      "metadata": {
        "id": "qf1Yjs-jeCv1"
      },
      "source": [
        "X = np.array(X)\n",
        "t_X = np.array(t_X)"
      ],
      "execution_count": 21,
      "outputs": []
    },
    {
      "cell_type": "markdown",
      "metadata": {
        "id": "o8tLGI_306OV"
      },
      "source": [
        "#Normalizing the data"
      ]
    },
    {
      "cell_type": "code",
      "metadata": {
        "id": "kdZ9xp4nLrWg"
      },
      "source": [
        "#Normalizing data\n",
        "\n",
        "mean = []\n",
        "mean = np.mean(X, axis = 1)\n",
        "std_dev = np.std(X, axis = 1)\n",
        "m = train_X.size\n",
        "\n",
        "for i in range(1,X.shape[0]):\n",
        "  for j in range(X.shape[1]):\n",
        "    X[i][j] = (X[i][j] - mean[i])/std_dev[i]\n",
        "\n",
        "  for k in range(102):\n",
        "    t_X[i][k] = (t_X[i][k]-mean[i])/std_dev[i]\n",
        "\n",
        "\n",
        "# for i in range(1,14):\n",
        "#   # print(i)\n",
        "#   for j in range(404):\n",
        "\n",
        "#     mean = statistics.mean(X[i,:])\n",
        "#     std_dev = statistics.stdev(X[i,:])\n",
        "#     X[i][j] = (X[i][j] - mean)/std_dev\n",
        "\n",
        "#   for k in range(102):\n",
        "#     t_X[i][k] = (t_X[i][k]-mean)/std_dev"
      ],
      "execution_count": 22,
      "outputs": []
    },
    {
      "cell_type": "code",
      "metadata": {
        "id": "KFaQpPgB8tMM",
        "outputId": "54137ec6-8c95-46b9-b4ef-06d8b843003c",
        "colab": {
          "base_uri": "https://localhost:8080/"
        }
      },
      "source": [
        "print(mean)\n",
        "print(std_dev)\n",
        "len(X)\n",
        "print(X.shape[1])"
      ],
      "execution_count": 23,
      "outputs": [
        {
          "output_type": "stream",
          "text": [
            "[1.00000000e+00 3.74511057e+00 1.14801980e+01 1.11044307e+01\n",
            " 6.18811881e-02 5.57355941e-01 6.26708168e+00 6.26708168e+00\n",
            " 3.74027079e+00 9.44059406e+00 4.05898515e+02 1.84759901e+01\n",
            " 3.54783168e+02 1.27408168e+01]\n",
            "[0.00000000e+00 9.22929073e+00 2.37382770e+01 6.80287253e+00\n",
            " 2.40939633e-01 1.17147847e-01 7.08908627e-01 7.08908627e-01\n",
            " 2.02770050e+00 8.68758849e+00 1.66168506e+02 2.19765689e+00\n",
            " 9.39946015e+01 7.24556085e+00]\n",
            "404\n"
          ],
          "name": "stdout"
        }
      ]
    },
    {
      "cell_type": "markdown",
      "metadata": {
        "id": "IBLBrWQD2FqK"
      },
      "source": [
        "#Functions MVLR"
      ]
    },
    {
      "cell_type": "code",
      "metadata": {
        "id": "wf8s6Ia5LD8_"
      },
      "source": [
        "def m_predict(X,theta):\n",
        "  h_x = []\n",
        "  h_x = np.dot(theta,X)\n",
        "\n",
        "  return h_x\n"
      ],
      "execution_count": 24,
      "outputs": []
    },
    {
      "cell_type": "code",
      "metadata": {
        "id": "sD5ybBVfLGoL"
      },
      "source": [
        "def m_cost(X,Y,theta):\n",
        "  m = Y.size  # number of training examples\n",
        "    \n",
        "    # You need to return the following variable(s) correctly\n",
        "        \n",
        "    ### START CODE HERE ### (≈ 3-4 lines of code)\n",
        "    \n",
        "  s = 0.0\n",
        "  for i in range(m):\n",
        "    \n",
        "    z = (m_predict(X[:,i],theta) - Y[i])**2  # using predict function to find h_theta and then finding the error\n",
        "    s = s + z\n",
        "  \n",
        "  J = (1/(2*m))*s # cost function\n",
        "    \n",
        "  return J\n"
      ],
      "execution_count": 25,
      "outputs": []
    },
    {
      "cell_type": "code",
      "metadata": {
        "id": "PwMJS1k5LP4O"
      },
      "source": [
        "def m_gradientDescent(X,Y,alpha,n_epoch):\n",
        "  J = []\n",
        "  J1 = []\n",
        "  m = Y.size\n",
        "  b = X[:,0].size # b = 14\n",
        "  # print(b)\n",
        "\n",
        "  theta = np.zeros(b) # make an array of zeros of same dimension 14\n",
        "  temp_theta = np.zeros(b) # a temp to simultaneously update the wieghts theta\n",
        "\n",
        "  for epoch in range(n_epoch):\n",
        "    \n",
        "\n",
        "    for j in range(b):\n",
        "      s = 0.0\n",
        "      for i in range(m):\n",
        "        d = m_predict(X[:,i],theta)-Y[i]\n",
        "\n",
        "        # if i == 0:\n",
        "          # s = s + d\n",
        "\n",
        "        # elif i > 0:\n",
        "        s = s + d*X[j][i]\n",
        "\n",
        "      temp_theta[j] = theta[j] - alpha*(1/m)*s\n",
        "    \n",
        "    theta = temp_theta\n",
        "\n",
        "    J = m_cost(X,Y,theta)\n",
        "    J1 = np.append(J1,J)\n",
        "    # print(J)\n",
        "\n",
        "  return theta,J1"
      ],
      "execution_count": 26,
      "outputs": []
    },
    {
      "cell_type": "markdown",
      "metadata": {
        "id": "3P3McM8i0qN8"
      },
      "source": [
        "#Testing the data"
      ]
    },
    {
      "cell_type": "code",
      "metadata": {
        "id": "bNqGvk0jWerX"
      },
      "source": [
        "alpha = 0.01\n",
        "n_ep = 4000"
      ],
      "execution_count": 27,
      "outputs": []
    },
    {
      "cell_type": "code",
      "metadata": {
        "id": "cYuJjeJm1TjN"
      },
      "source": [
        "theta, J = m_gradientDescent(X,train_Y,alpha,n_ep)\n",
        "theta1, J1 = m_gradientDescent(t_X,test_Y,alpha,n_ep)"
      ],
      "execution_count": 28,
      "outputs": []
    },
    {
      "cell_type": "code",
      "metadata": {
        "id": "yZy_KHOQBUvb"
      },
      "source": [
        "import matplotlib.pyplot as plt"
      ],
      "execution_count": 29,
      "outputs": []
    },
    {
      "cell_type": "code",
      "metadata": {
        "id": "5fr9bBMmyhe4",
        "outputId": "c140b00c-871f-48b9-ecb9-6f9027fb10ae",
        "colab": {
          "base_uri": "https://localhost:8080/",
          "height": 282
        }
      },
      "source": [
        "plt.plot(J)"
      ],
      "execution_count": 30,
      "outputs": [
        {
          "output_type": "execute_result",
          "data": {
            "text/plain": [
              "[<matplotlib.lines.Line2D at 0x7f2f8c182278>]"
            ]
          },
          "metadata": {
            "tags": []
          },
          "execution_count": 30
        },
        {
          "output_type": "display_data",
          "data": {
            "image/png": "[encoded data removed]",
            "text/plain": [
              "<Figure size 432x288 with 1 Axes>"
            ]
          },
          "metadata": {
            "tags": [],
            "needs_background": "light"
          }
        }
      ]
    },
    {
      "cell_type": "code",
      "metadata": {
        "id": "Z0Bg4pJzJCdS",
        "outputId": "dde84697-e569-4e0b-be29-59422ff5e61c",
        "colab": {
          "base_uri": "https://localhost:8080/",
          "height": 282
        }
      },
      "source": [
        "plt.plot(J1)"
      ],
      "execution_count": 31,
      "outputs": [
        {
          "output_type": "execute_result",
          "data": {
            "text/plain": [
              "[<matplotlib.lines.Line2D at 0x7f2f8c0e5898>]"
            ]
          },
          "metadata": {
            "tags": []
          },
          "execution_count": 31
        },
        {
          "output_type": "display_data",
          "data": {
            "image/png": "[encoded data removed]",
            "text/plain": [
              "<Figure size 432x288 with 1 Axes>"
            ]
          },
          "metadata": {
            "tags": [],
            "needs_background": "light"
          }
        }
      ]
    },
    {
      "cell_type": "code",
      "metadata": {
        "id": "3r9CGPmsTlgE",
        "outputId": "b88adb84-86f5-44f7-8932-023fb3bc7514",
        "colab": {
          "base_uri": "https://localhost:8080/"
        }
      },
      "source": [
        "print('Cost for train data',J[n_ep-1])\n",
        "print('Cost for test data',J1[n_ep-1])"
      ],
      "execution_count": 32,
      "outputs": [
        {
          "output_type": "stream",
          "text": [
            "Cost for train data 11.01197421841411\n",
            "Cost for test data 7.736106769106338\n"
          ],
          "name": "stdout"
        }
      ]
    },
    {
      "cell_type": "markdown",
      "metadata": {
        "id": "i-uGH2c9QW1W"
      },
      "source": [
        "## 3. Regularized Linear Regression\n",
        "\n",
        "Now, you'll use the [scikit-learn](https://scikit-learn.org/stable/index.html) to implement [Linear Regression](https://scikit-learn.org/stable/modules/generated/sklearn.linear_model.LinearRegression.html), [Ridge](https://scikit-learn.org/stable/modules/generated/sklearn.linear_model.Ridge.html#sklearn.linear_model.Ridge), [Lasso](https://scikit-learn.org/stable/modules/generated/sklearn.linear_model.Lasso.html#sklearn.linear_model.Lasso), [Elastic Net](https://scikit-learn.org/stable/modules/generated/sklearn.linear_model.ElasticNet.html#sklearn.linear_model.ElasticNet) and apply them to Boston house pricing dataset (provided in part 2). Try out different values of regularization coefficient (known as alpha in scikit-learn) and use the [Mean Squared Error](https://scikit-learn.org/stable/modules/generated/sklearn.metrics.mean_squared_error.html) to report loss with each regression. Finally, plot the regularization coefficients alpha (x-axis) with learned parameters $\\theta$ (y-axis) for Ridge and Lasso. Please read [this blog](https://scienceloft.com/technical/understanding-lasso-and-ridge-regression/) to get better understanding of the desired plots."
      ]
    },
    {
      "cell_type": "code",
      "metadata": {
        "id": "cgvl1RXOQW1X"
      },
      "source": [
        "from sklearn.linear_model import LinearRegression\n",
        "from sklearn.linear_model import Ridge\n",
        "from sklearn.linear_model import Lasso\n",
        "from sklearn.linear_model import ElasticNet\n",
        "from sklearn.metrics import mean_squared_error"
      ],
      "execution_count": 33,
      "outputs": []
    },
    {
      "cell_type": "code",
      "metadata": {
        "id": "3p5TsbnBQW1a",
        "outputId": "c1688739-dd61-47cc-910e-adbc259a52f1",
        "colab": {
          "base_uri": "https://localhost:8080/",
          "height": 35
        }
      },
      "source": [
        "''' Start your code of part 3 from here, add the new code cells as per your requirement. '''"
      ],
      "execution_count": 34,
      "outputs": [
        {
          "output_type": "execute_result",
          "data": {
            "application/vnd.google.colaboratory.intrinsic+json": {
              "type": "string"
            },
            "text/plain": [
              "' Start your code of part 3 from here, add the new code cells as per your requirement. '"
            ]
          },
          "metadata": {
            "tags": []
          },
          "execution_count": 34
        }
      ]
    },
    {
      "cell_type": "markdown",
      "metadata": {
        "id": "w760cUWQCJvr"
      },
      "source": [
        ""
      ]
    },
    {
      "cell_type": "markdown",
      "metadata": {
        "id": "_Ezy2JSO9r7a"
      },
      "source": [
        "#Linear Regression "
      ]
    },
    {
      "cell_type": "code",
      "metadata": {
        "id": "XXRVQghEQW1e",
        "outputId": "ee8479a7-7bb0-4330-92d6-4f5b765aff8f",
        "colab": {
          "base_uri": "https://localhost:8080/"
        }
      },
      "source": [
        "linear_regression = LinearRegression()\n",
        "linear_regression.fit(train_X,train_Y)\n",
        "y_pred_train = linear_regression.predict(train_X)\n",
        "\n",
        "MSE_Linear_train = mean_squared_error(train_Y,y_pred_train)\n",
        "\n",
        "print(\"MSE Linear Regression on Train Data = \",MSE_Linear_train)\n",
        "\n",
        "y_pred = linear_regression.predict(test_X)\n",
        "\n",
        "MSE_Linear_test = mean_squared_error(test_Y,y_pred)\n",
        "\n",
        "print(\"MSE Linear Regression on Test Data = \",MSE_Linear_test)\n",
        "# print(linear_regression.coef_)\n"
      ],
      "execution_count": 35,
      "outputs": [
        {
          "output_type": "stream",
          "text": [
            "MSE Linear Regression on Train Data =  22.004800838348142\n",
            "MSE Linear Regression on Test Data =  23.195599256422973\n"
          ],
          "name": "stdout"
        }
      ]
    },
    {
      "cell_type": "markdown",
      "metadata": {
        "id": "Ib8zQmvw9yWd"
      },
      "source": [
        "#Ridge"
      ]
    },
    {
      "cell_type": "code",
      "metadata": {
        "id": "OTLGwHiT9HBM"
      },
      "source": [
        "def ridge(train_X,train_Y,test_X,test_Y,a):\n",
        "  clf = Ridge(alpha = a, fit_intercept=False, normalize=True)\n",
        "  clf.fit(train_X,train_Y)\n",
        "\n",
        "  # r_pred_train = clf.predict(train_Y)\n",
        "  # MSE_R_Linear_train = mean_squared_error(train_Y,r_pred_train)\n",
        "\n",
        "  r_pred_test = clf.predict(test_X)\n",
        "  MSE_R_Linear_test = mean_squared_error(test_Y,r_pred_test)\n",
        "\n",
        "  # print(\"MSE Ridge Linear Regression Training Data = \", MSE_R_Linear_train )\n",
        "  print(\"MSE Ridge Linear Regression Test Data = \", MSE_R_Linear_test)\n",
        "\n",
        "  return clf.coef_"
      ],
      "execution_count": 44,
      "outputs": []
    },
    {
      "cell_type": "code",
      "metadata": {
        "id": "uIvhAfZU_kVQ"
      },
      "source": [
        "# print(test_Y.shape)\n",
        "# print(r_pred.shape)"
      ],
      "execution_count": 37,
      "outputs": []
    },
    {
      "cell_type": "markdown",
      "metadata": {
        "id": "VwI2KtSd_42X"
      },
      "source": [
        "#Lasso"
      ]
    },
    {
      "cell_type": "code",
      "metadata": {
        "id": "bpFCAhf6-vYi"
      },
      "source": [
        "def lasso(train_X,train_Y,test_X,test_Y,a):\n",
        "  lso = Lasso(alpha = a, fit_intercept=False, normalize= True)\n",
        "  lso.fit(train_X,train_Y)\n",
        "\n",
        "  # l_pred_train = lso.predict(train_Y)\n",
        "  # MSE_L_Linear_train = mean_squared_error(train_Y,l_pred_train)\n",
        "\n",
        "  l_pred_test = lso.predict(test_X)\n",
        "  MSE_L_Linear_test = mean_squared_error(test_Y,l_pred_test)\n",
        "\n",
        "  # print(\"MSE Ridge Linear Regression Training Data = \", MSE_L_Linear_train)\n",
        "  print(\"MSE Lasso Linear Regression Test Data = \", MSE_L_Linear_test)\n",
        "\n",
        "  # print(\"MSE Lasso Linear Regression for alpha = \",a,\"is\", MSE_L_Linear)\n",
        "\n",
        "  return lso.coef_"
      ],
      "execution_count": 50,
      "outputs": []
    },
    {
      "cell_type": "markdown",
      "metadata": {
        "id": "3Pu_ogVCAZcO"
      },
      "source": [
        "#Elastic Net"
      ]
    },
    {
      "cell_type": "code",
      "metadata": {
        "id": "i2V4HB1oAOgn"
      },
      "source": [
        "def elastic(train_X,train_Y,test_X,test_Y,a):\n",
        "  elastic = ElasticNet(alpha = a)\n",
        "  elastic.fit(train_X,train_Y)\n",
        "\n",
        "  # e_pred_train = elastic.predict(train_Y)\n",
        "  # MSE_E_Linear_train = mean_squared_error(train_Y,e_pred_train)\n",
        "\n",
        "  e_pred_test = elastic.predict(test_X)\n",
        "  MSE_E_Linear_test = mean_squared_error(test_Y,e_pred_test)\n",
        "\n",
        "  # print(\"MSE Elastic Linear Regression Training Data = \", MSE_E_Linear_train)\n",
        "  print(\"MSE Elastic Linear Regression Test Data = \", MSE_E_Linear_test)\n",
        "\n",
        "  return MSE_E_Linear_test\n",
        "# print(\"MSE Elastic Linear Regression = \", MSE_E_Linear)"
      ],
      "execution_count": 48,
      "outputs": []
    },
    {
      "cell_type": "markdown",
      "metadata": {
        "id": "0zQlAKqQYZdh"
      },
      "source": [
        "#Testing and Plotting part 3"
      ]
    },
    {
      "cell_type": "code",
      "metadata": {
        "id": "T7JL1noEgBeq"
      },
      "source": [
        "import matplotlib.pyplot as plt"
      ],
      "execution_count": 40,
      "outputs": []
    },
    {
      "cell_type": "code",
      "metadata": {
        "id": "yZM3gKBlf88B"
      },
      "source": [
        ""
      ],
      "execution_count": 40,
      "outputs": []
    },
    {
      "cell_type": "code",
      "metadata": {
        "id": "ZojWp4zNLwRz",
        "outputId": "8491373f-b3dc-40de-d6ab-df1dfe8829d2",
        "colab": {
          "base_uri": "https://localhost:8080/",
          "height": 1000
        }
      },
      "source": [
        "alphas = np.logspace(-10, 10, 50)\n",
        "coefs = []\n",
        "laso_coef = []\n",
        "\n",
        "for a in alphas:\n",
        "  CR = ridge(train_X,train_Y,test_X,test_Y,a)\n",
        "  coefs.append(CR)\n",
        "  \n",
        "\n",
        "# print(coefs)\n",
        "plt.plot(alphas, coefs)\n",
        "ax = plt.gca()\n",
        "ax.set_xscale('log')\n",
        "\n",
        "plt.xlabel('log alpha')\n",
        "plt.ylabel('weights')\n",
        "plt.title('Ridge')\n",
        "\n",
        "\n"
      ],
      "execution_count": 57,
      "outputs": [
        {
          "output_type": "stream",
          "text": [
            "MSE Ridge Linear Regression Test Data =  23.830236974845384\n",
            "MSE Ridge Linear Regression Test Data =  23.830236974809083\n",
            "MSE Ridge Linear Regression Test Data =  23.83023697471596\n",
            "MSE Ridge Linear Regression Test Data =  23.830236974477952\n",
            "MSE Ridge Linear Regression Test Data =  23.830236973868544\n",
            "MSE Ridge Linear Regression Test Data =  23.830236972308466\n",
            "MSE Ridge Linear Regression Test Data =  23.830236968315702\n",
            "MSE Ridge Linear Regression Test Data =  23.830236958096013\n",
            "MSE Ridge Linear Regression Test Data =  23.830236931938337\n",
            "MSE Ridge Linear Regression Test Data =  23.830236864986478\n",
            "MSE Ridge Linear Regression Test Data =  23.830236693620144\n",
            "MSE Ridge Linear Regression Test Data =  23.83023625499973\n",
            "MSE Ridge Linear Regression Test Data =  23.830235132332035\n",
            "MSE Ridge Linear Regression Test Data =  23.830232258825358\n",
            "MSE Ridge Linear Regression Test Data =  23.83022490404289\n",
            "MSE Ridge Linear Regression Test Data =  23.830206079751736\n",
            "MSE Ridge Linear Regression Test Data =  23.83015790218281\n",
            "MSE Ridge Linear Regression Test Data =  23.830034616277455\n",
            "MSE Ridge Linear Regression Test Data =  23.82971923603633\n",
            "MSE Ridge Linear Regression Test Data =  23.8289131540344\n",
            "MSE Ridge Linear Regression Test Data =  23.82685741168301\n",
            "MSE Ridge Linear Regression Test Data =  23.821643499720793\n",
            "MSE Ridge Linear Regression Test Data =  23.808595477781974\n",
            "MSE Ridge Linear Regression Test Data =  23.776910711560856\n",
            "MSE Ridge Linear Regression Test Data =  23.704251005347572\n",
            "MSE Ridge Linear Regression Test Data =  23.550946646300222\n",
            "MSE Ridge Linear Regression Test Data =  23.264404962279954\n",
            "MSE Ridge Linear Regression Test Data =  22.871367824597737\n",
            "MSE Ridge Linear Regression Test Data =  22.763781695200425\n",
            "MSE Ridge Linear Regression Test Data =  23.950930724862065\n",
            "MSE Ridge Linear Regression Test Data =  28.0103172992639\n",
            "MSE Ridge Linear Regression Test Data =  35.54987327413283\n",
            "MSE Ridge Linear Regression Test Data =  44.15858936871484\n",
            "MSE Ridge Linear Regression Test Data =  51.89769646468881\n",
            "MSE Ridge Linear Regression Test Data =  59.35000968062594\n",
            "MSE Ridge Linear Regression Test Data =  66.66223771070055\n",
            "MSE Ridge Linear Regression Test Data =  72.6069506865325\n",
            "MSE Ridge Linear Regression Test Data =  76.60509159609028\n",
            "MSE Ridge Linear Regression Test Data =  79.61980249749624\n",
            "MSE Ridge Linear Regression Test Data =  82.76151198019502\n",
            "MSE Ridge Linear Regression Test Data =  87.61731806050699\n",
            "MSE Ridge Linear Regression Test Data =  97.57932778811873\n",
            "MSE Ridge Linear Regression Test Data =  116.76860587140793\n",
            "MSE Ridge Linear Regression Test Data =  150.86890913426652\n",
            "MSE Ridge Linear Regression Test Data =  220.9994280491366\n",
            "MSE Ridge Linear Regression Test Data =  341.0741846289479\n",
            "MSE Ridge Linear Regression Test Data =  465.29499319956057\n",
            "MSE Ridge Linear Regression Test Data =  546.6247266221002\n",
            "MSE Ridge Linear Regression Test Data =  586.8494772093183\n",
            "MSE Ridge Linear Regression Test Data =  604.1978142824042\n"
          ],
          "name": "stdout"
        },
        {
          "output_type": "execute_result",
          "data": {
            "text/plain": [
              "Text(0.5, 1.0, 'Ridge')"
            ]
          },
          "metadata": {
            "tags": []
          },
          "execution_count": 57
        },
        {
          "output_type": "display_data",
          "data": {
            "image/png": "[encoded data removed]",
            "text/plain": [
              "<Figure size 432x288 with 1 Axes>"
            ]
          },
          "metadata": {
            "tags": [],
            "needs_background": "light"
          }
        }
      ]
    },
    {
      "cell_type": "code",
      "metadata": {
        "id": "7M8y2VtKMG82",
        "outputId": "a33c97e8-9257-4fe6-ad15-48f8a70a81ef",
        "colab": {
          "base_uri": "https://localhost:8080/",
          "height": 1000
        }
      },
      "source": [
        "alpha2 = np.logspace(-10, 10, 50)\n",
        "laso_coef = []\n",
        "\n",
        "\n",
        "for a in alpha2:\n",
        "  CL = lasso(train_X,train_Y,test_X,test_Y,a)\n",
        "  laso_coef.append(CL)\n",
        "\n",
        "ax = plt.gca()\n",
        "ax.set_xscale('log')\n",
        "plt.plot(alpha2,laso_coef)\n",
        "\n",
        "plt.xlabel('log alpha')\n",
        "plt.ylabel('weights')\n",
        "plt.title('Lasso')"
      ],
      "execution_count": 58,
      "outputs": [
        {
          "output_type": "stream",
          "text": [
            "MSE Lasso Linear Regression Test Data =  23.83025542784909\n",
            "MSE Lasso Linear Regression Test Data =  23.830255423988408\n",
            "MSE Lasso Linear Regression Test Data =  23.830255414106663\n",
            "MSE Lasso Linear Regression Test Data =  23.830255388813853\n",
            "MSE Lasso Linear Regression Test Data =  23.83025532407586\n",
            "MSE Lasso Linear Regression Test Data =  23.830255158375696\n",
            "MSE Lasso Linear Regression Test Data =  23.830254734258528\n",
            "MSE Lasso Linear Regression Test Data =  23.830253648711036\n",
            "MSE Lasso Linear Regression Test Data =  23.8302508702051\n",
            "MSE Lasso Linear Regression Test Data =  23.83024375851831\n",
            "MSE Lasso Linear Regression Test Data =  23.830225556027575\n",
            "MSE Lasso Linear Regression Test Data =  23.830178967270495\n",
            "MSE Lasso Linear Regression Test Data =  23.830059730224264\n",
            "MSE Lasso Linear Regression Test Data =  23.82975459697165\n",
            "MSE Lasso Linear Regression Test Data =  23.828973984779047\n",
            "MSE Lasso Linear Regression Test Data =  23.826978532955497\n",
            "MSE Lasso Linear Regression Test Data =  23.821887858416154\n",
            "MSE Lasso Linear Regression Test Data =  23.809015315940314\n",
            "MSE Lasso Linear Regression Test Data =  23.77666983245817\n",
            "MSE Lasso Linear Regression Test Data =  23.698594427868645\n",
            "MSE Lasso Linear Regression Test Data =  23.530028725520978\n",
            "MSE Lasso Linear Regression Test Data =  23.1812407365087\n",
            "MSE Lasso Linear Regression Test Data =  22.440232523322262\n",
            "MSE Lasso Linear Regression Test Data =  21.48807591656432\n",
            "MSE Lasso Linear Regression Test Data =  23.008762085678196\n",
            "MSE Lasso Linear Regression Test Data =  29.741650613552686\n",
            "MSE Lasso Linear Regression Test Data =  45.67231693026131\n",
            "MSE Lasso Linear Regression Test Data =  67.34217790094341\n",
            "MSE Lasso Linear Regression Test Data =  80.2655833624494\n",
            "MSE Lasso Linear Regression Test Data =  82.88464237551776\n",
            "MSE Lasso Linear Regression Test Data =  83.45712248028455\n",
            "MSE Lasso Linear Regression Test Data =  85.26705404464111\n",
            "MSE Lasso Linear Regression Test Data =  95.11620976572104\n",
            "MSE Lasso Linear Regression Test Data =  154.52896402058695\n",
            "MSE Lasso Linear Regression Test Data =  530.6640113231742\n",
            "MSE Lasso Linear Regression Test Data =  615.8578431372549\n",
            "MSE Lasso Linear Regression Test Data =  615.8578431372549\n",
            "MSE Lasso Linear Regression Test Data =  615.8578431372549\n",
            "MSE Lasso Linear Regression Test Data =  615.8578431372549\n",
            "MSE Lasso Linear Regression Test Data =  615.8578431372549\n",
            "MSE Lasso Linear Regression Test Data =  615.8578431372549\n",
            "MSE Lasso Linear Regression Test Data =  615.8578431372549\n",
            "MSE Lasso Linear Regression Test Data =  615.8578431372549\n",
            "MSE Lasso Linear Regression Test Data =  615.8578431372549\n",
            "MSE Lasso Linear Regression Test Data =  615.8578431372549\n",
            "MSE Lasso Linear Regression Test Data =  615.8578431372549\n",
            "MSE Lasso Linear Regression Test Data =  615.8578431372549\n",
            "MSE Lasso Linear Regression Test Data =  615.8578431372549\n",
            "MSE Lasso Linear Regression Test Data =  615.8578431372549\n",
            "MSE Lasso Linear Regression Test Data =  615.8578431372549\n"
          ],
          "name": "stdout"
        },
        {
          "output_type": "stream",
          "text": [
            "/usr/local/lib/python3.6/dist-packages/sklearn/linear_model/_coordinate_descent.py:476: ConvergenceWarning: Objective did not converge. You might want to increase the number of iterations. Duality gap: 4993.041260708265, tolerance: 23.680884000000002\n",
            "  positive)\n",
            "/usr/local/lib/python3.6/dist-packages/sklearn/linear_model/_coordinate_descent.py:476: ConvergenceWarning: Objective did not converge. You might want to increase the number of iterations. Duality gap: 4993.038970752814, tolerance: 23.680884000000002\n",
            "  positive)\n",
            "/usr/local/lib/python3.6/dist-packages/sklearn/linear_model/_coordinate_descent.py:476: ConvergenceWarning: Objective did not converge. You might want to increase the number of iterations. Duality gap: 4993.033109499708, tolerance: 23.680884000000002\n",
            "  positive)\n",
            "/usr/local/lib/python3.6/dist-packages/sklearn/linear_model/_coordinate_descent.py:476: ConvergenceWarning: Objective did not converge. You might want to increase the number of iterations. Duality gap: 4993.01810732604, tolerance: 23.680884000000002\n",
            "  positive)\n",
            "/usr/local/lib/python3.6/dist-packages/sklearn/linear_model/_coordinate_descent.py:476: ConvergenceWarning: Objective did not converge. You might want to increase the number of iterations. Duality gap: 4992.979708441946, tolerance: 23.680884000000002\n",
            "  positive)\n",
            "/usr/local/lib/python3.6/dist-packages/sklearn/linear_model/_coordinate_descent.py:476: ConvergenceWarning: Objective did not converge. You might want to increase the number of iterations. Duality gap: 4992.881423993411, tolerance: 23.680884000000002\n",
            "  positive)\n",
            "/usr/local/lib/python3.6/dist-packages/sklearn/linear_model/_coordinate_descent.py:476: ConvergenceWarning: Objective did not converge. You might want to increase the number of iterations. Duality gap: 4992.629855881112, tolerance: 23.680884000000002\n",
            "  positive)\n",
            "/usr/local/lib/python3.6/dist-packages/sklearn/linear_model/_coordinate_descent.py:476: ConvergenceWarning: Objective did not converge. You might want to increase the number of iterations. Duality gap: 4991.9859267049715, tolerance: 23.680884000000002\n",
            "  positive)\n",
            "/usr/local/lib/python3.6/dist-packages/sklearn/linear_model/_coordinate_descent.py:476: ConvergenceWarning: Objective did not converge. You might want to increase the number of iterations. Duality gap: 4990.337572173444, tolerance: 23.680884000000002\n",
            "  positive)\n",
            "/usr/local/lib/python3.6/dist-packages/sklearn/linear_model/_coordinate_descent.py:476: ConvergenceWarning: Objective did not converge. You might want to increase the number of iterations. Duality gap: 4986.117305016428, tolerance: 23.680884000000002\n",
            "  positive)\n",
            "/usr/local/lib/python3.6/dist-packages/sklearn/linear_model/_coordinate_descent.py:476: ConvergenceWarning: Objective did not converge. You might want to increase the number of iterations. Duality gap: 4975.3073055492105, tolerance: 23.680884000000002\n",
            "  positive)\n",
            "/usr/local/lib/python3.6/dist-packages/sklearn/linear_model/_coordinate_descent.py:476: ConvergenceWarning: Objective did not converge. You might want to increase the number of iterations. Duality gap: 4947.58603464209, tolerance: 23.680884000000002\n",
            "  positive)\n",
            "/usr/local/lib/python3.6/dist-packages/sklearn/linear_model/_coordinate_descent.py:476: ConvergenceWarning: Objective did not converge. You might want to increase the number of iterations. Duality gap: 4876.28790252223, tolerance: 23.680884000000002\n",
            "  positive)\n",
            "/usr/local/lib/python3.6/dist-packages/sklearn/linear_model/_coordinate_descent.py:476: ConvergenceWarning: Objective did not converge. You might want to increase the number of iterations. Duality gap: 4691.545945679682, tolerance: 23.680884000000002\n",
            "  positive)\n",
            "/usr/local/lib/python3.6/dist-packages/sklearn/linear_model/_coordinate_descent.py:476: ConvergenceWarning: Objective did not converge. You might want to increase the number of iterations. Duality gap: 4204.113377379994, tolerance: 23.680884000000002\n",
            "  positive)\n",
            "/usr/local/lib/python3.6/dist-packages/sklearn/linear_model/_coordinate_descent.py:476: ConvergenceWarning: Objective did not converge. You might want to increase the number of iterations. Duality gap: 2870.218514139916, tolerance: 23.680884000000002\n",
            "  positive)\n",
            "/usr/local/lib/python3.6/dist-packages/sklearn/linear_model/_coordinate_descent.py:476: ConvergenceWarning: Objective did not converge. You might want to increase the number of iterations. Duality gap: 36.18525727456654, tolerance: 23.680884000000002\n",
            "  positive)\n"
          ],
          "name": "stderr"
        },
        {
          "output_type": "execute_result",
          "data": {
            "text/plain": [
              "Text(0.5, 1.0, 'Lasso')"
            ]
          },
          "metadata": {
            "tags": []
          },
          "execution_count": 58
        },
        {
          "output_type": "display_data",
          "data": {
            "image/png": "[encoded data removed]",
            "text/plain": [
              "<Figure size 432x288 with 1 Axes>"
            ]
          },
          "metadata": {
            "tags": [],
            "needs_background": "light"
          }
        }
      ]
    },
    {
      "cell_type": "code",
      "metadata": {
        "id": "dC9oVxTBUaVB",
        "outputId": "7a6d4d03-f9a4-45bb-ca9d-8a046446e22a",
        "colab": {
          "base_uri": "https://localhost:8080/"
        }
      },
      "source": [
        "alpha3 = np.logspace(-10, 10, 50)\n",
        "\n",
        "for a in alpha2:\n",
        "  Elastic_error = elastic(train_X,train_Y,test_X,test_Y,a)"
      ],
      "execution_count": 60,
      "outputs": [
        {
          "output_type": "stream",
          "text": [
            "MSE Elastic Linear Regression Test Data =  23.19559922131911\n",
            "MSE Elastic Linear Regression Test Data =  23.195599166573125\n",
            "MSE Elastic Linear Regression Test Data =  23.195599026447987\n",
            "MSE Elastic Linear Regression Test Data =  23.195598667791074\n",
            "MSE Elastic Linear Regression Test Data =  23.195597749792462\n",
            "MSE Elastic Linear Regression Test Data =  23.1955954001365\n",
            "MSE Elastic Linear Regression Test Data =  23.19558938611667\n",
            "MSE Elastic Linear Regression Test Data =  23.195573993203894\n",
            "MSE Elastic Linear Regression Test Data =  23.195534596031145\n",
            "MSE Elastic Linear Regression Test Data =  23.195433768302532\n",
            "MSE Elastic Linear Regression Test Data =  23.195175768199885\n",
            "MSE Elastic Linear Regression Test Data =  23.194515887525096\n",
            "MSE Elastic Linear Regression Test Data =  23.192830037900368\n",
            "MSE Elastic Linear Regression Test Data =  23.188535556692383\n",
            "MSE Elastic Linear Regression Test Data =  23.177676530791583\n",
            "MSE Elastic Linear Regression Test Data =  23.150727431478348\n",
            "MSE Elastic Linear Regression Test Data =  23.086824042222123\n",
            "MSE Elastic Linear Regression Test Data =  22.95131637688337\n",
            "MSE Elastic Linear Regression Test Data =  22.72447530009945\n",
            "MSE Elastic Linear Regression Test Data =  22.468376673857637\n",
            "MSE Elastic Linear Regression Test Data =  22.241652001948975\n",
            "MSE Elastic Linear Regression Test Data =  21.96350029464391\n",
            "MSE Elastic Linear Regression Test Data =  21.767936430010458\n",
            "MSE Elastic Linear Regression Test Data =  22.193890859410644\n",
            "MSE Elastic Linear Regression Test Data =  23.882499132864268\n",
            "MSE Elastic Linear Regression Test Data =  27.17429172482675\n",
            "MSE Elastic Linear Regression Test Data =  32.5272561933027\n",
            "MSE Elastic Linear Regression Test Data =  37.87384938781444\n",
            "MSE Elastic Linear Regression Test Data =  44.87625442291513\n",
            "MSE Elastic Linear Regression Test Data =  58.526974373446315\n",
            "MSE Elastic Linear Regression Test Data =  59.87236567579887\n",
            "MSE Elastic Linear Regression Test Data =  63.23747460175943\n",
            "MSE Elastic Linear Regression Test Data =  77.32802176503968\n",
            "MSE Elastic Linear Regression Test Data =  83.71085929676252\n",
            "MSE Elastic Linear Regression Test Data =  83.71085929676252\n",
            "MSE Elastic Linear Regression Test Data =  83.71085929676252\n",
            "MSE Elastic Linear Regression Test Data =  83.71085929676252\n",
            "MSE Elastic Linear Regression Test Data =  83.71085929676252\n",
            "MSE Elastic Linear Regression Test Data =  83.71085929676252\n",
            "MSE Elastic Linear Regression Test Data =  83.71085929676252\n",
            "MSE Elastic Linear Regression Test Data =  83.71085929676252\n",
            "MSE Elastic Linear Regression Test Data =  83.71085929676252\n",
            "MSE Elastic Linear Regression Test Data =  83.71085929676252\n",
            "MSE Elastic Linear Regression Test Data =  83.71085929676252\n",
            "MSE Elastic Linear Regression Test Data =  83.71085929676252\n",
            "MSE Elastic Linear Regression Test Data =  83.71085929676252\n",
            "MSE Elastic Linear Regression Test Data =  83.71085929676252\n",
            "MSE Elastic Linear Regression Test Data =  83.71085929676252\n",
            "MSE Elastic Linear Regression Test Data =  83.71085929676252\n",
            "MSE Elastic Linear Regression Test Data =  83.71085929676252\n"
          ],
          "name": "stdout"
        }
      ]
    },
    {
      "cell_type": "code",
      "metadata": {
        "id": "ZSkq9NvuWXpV"
      },
      "source": [
        ""
      ],
      "execution_count": null,
      "outputs": []
    }
  ]
}